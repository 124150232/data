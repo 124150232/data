{
  "nbformat": 4,
  "nbformat_minor": 0,
  "metadata": {
    "colab": {
      "name": "ST456-Assessment1",
      "provenance": [],
      "toc_visible": true,
      "collapsed_sections": []
    },
    "kernelspec": {
      "name": "python3",
      "display_name": "Python 3"
    },
    "language_info": {
      "name": "python"
    },
    "accelerator": "GPU"
  },
  "cells": [
    {
      "cell_type": "markdown",
      "source": [
        "# P1 - permutation-invariant functions"
      ],
      "metadata": {
        "id": "sSys0rwmy1Ym"
      }
    },
    {
      "cell_type": "markdown",
      "source": [
        "## P1.1"
      ],
      "metadata": {
        "id": "rQwzfaCoy8uE"
      }
    },
    {
      "cell_type": "code",
      "source": [
        "# importing necessary libraries\n",
        "from pandas import read_csv\n",
        "import seaborn as sns\n",
        "import matplotlib.pyplot as plt\n",
        "import tensorflow as tf\n",
        "from tensorflow import keras\n",
        "from tensorflow.keras import layers\n",
        "import numpy as np"
      ],
      "metadata": {
        "id": "JPMF96O1gFLN"
      },
      "execution_count": 3,
      "outputs": []
    },
    {
      "cell_type": "code",
      "source": [
        "from google.colab import drive\n",
        "drive.mount('/content/drive')"
      ],
      "metadata": {
        "colab": {
          "base_uri": "https://localhost:8080/"
        },
        "id": "zbD6rXqQjCU0",
        "outputId": "24eef645-e860-4703-e402-870e2fdc45b9"
      },
      "execution_count": 4,
      "outputs": [
        {
          "output_type": "stream",
          "name": "stdout",
          "text": [
            "Mounted at /content/drive\n"
          ]
        }
      ]
    },
    {
      "cell_type": "markdown",
      "source": [
        "### Load the dataset"
      ],
      "metadata": {
        "id": "NekI3MIef3H2"
      }
    },
    {
      "cell_type": "code",
      "source": [
        "train1 = read_csv('/content/drive/MyDrive/ST456-data/train-1.csv',header=None)\n",
        "test1 = read_csv('/content/drive/MyDrive/ST456-data/test-1.csv',header=None)"
      ],
      "metadata": {
        "id": "TtyQcIOTf3ju"
      },
      "execution_count": 5,
      "outputs": []
    },
    {
      "cell_type": "markdown",
      "source": [
        "### Data split and normalization"
      ],
      "metadata": {
        "id": "xFjgEGWE5N5k"
      }
    },
    {
      "cell_type": "code",
      "source": [
        "seed_value=0\n",
        "tf.random.set_seed(seed_value)\n",
        "np.random.seed(seed_value)"
      ],
      "metadata": {
        "id": "zgCOz3d_lfwQ"
      },
      "execution_count": 6,
      "outputs": []
    },
    {
      "cell_type": "code",
      "source": [
        "# splitting into input features (X) and class labels/targets (y)\n",
        "train1_feature, train1_target = train1.values[:, :-1], train1.values[:, -1]\n",
        "\n",
        "feature1_normaliser = layers.Normalization(input_shape=[10,], axis=None, name='normaliser')\n",
        "feature1_normaliser.adapt(train1_feature)\n",
        "\n",
        "test1_feature1, test1_target = test1.values[:, :-1], test1.values[:, -1]"
      ],
      "metadata": {
        "id": "m_r_ERvv5RHp"
      },
      "execution_count": 7,
      "outputs": []
    },
    {
      "cell_type": "markdown",
      "source": [
        "### Model definition"
      ],
      "metadata": {
        "id": "KzciJqY97bvP"
      }
    },
    {
      "cell_type": "code",
      "source": [
        "def Model(lat_dim,learning_rate):\n",
        "    Model1 = keras.Sequential(name='First_model')\n",
        "    Model1.add(feature1_normaliser)\n",
        "    # phi layer\n",
        "    Model1.add(layers.Dense(100,activation='relu',name='phi'))\n",
        "    # The output layer with lat_dim output units\n",
        "    Model1.add(layers.Dense(lat_dim))\n",
        "    # rho layer\n",
        "    Model1.add(layers.Dense(100,activation='relu',name='rho'))\n",
        "    Model1.add(layers.Dense(1))\n",
        "\n",
        "    Model1.compile(\n",
        "        optimizer=tf.optimizers.SGD(learning_rate),\n",
        "        loss='mean_squared_error')\n",
        "    return Model1"
      ],
      "metadata": {
        "id": "ecKkq7_vLNaU"
      },
      "execution_count": 8,
      "outputs": []
    },
    {
      "cell_type": "code",
      "source": [
        "Model(lat_dim=5, learning_rate=0.0001).summary()"
      ],
      "metadata": {
        "colab": {
          "base_uri": "https://localhost:8080/"
        },
        "id": "NtapPdMwPTWv",
        "outputId": "ff5d3949-7eb8-4849-8260-d41c2b1f2acc"
      },
      "execution_count": 113,
      "outputs": [
        {
          "output_type": "stream",
          "name": "stdout",
          "text": [
            "Model: \"First_model\"\n",
            "_________________________________________________________________\n",
            " Layer (type)                Output Shape              Param #   \n",
            "=================================================================\n",
            " normaliser (Normalization)  (None, 10)                3         \n",
            "                                                                 \n",
            " phi (Dense)                 (None, 100)               1100      \n",
            "                                                                 \n",
            " dense_37 (Dense)            (None, 5)                 505       \n",
            "                                                                 \n",
            " rho (Dense)                 (None, 100)               600       \n",
            "                                                                 \n",
            " dense_38 (Dense)            (None, 1)                 101       \n",
            "                                                                 \n",
            "=================================================================\n",
            "Total params: 2,309\n",
            "Trainable params: 2,306\n",
            "Non-trainable params: 3\n",
            "_________________________________________________________________\n"
          ]
        }
      ]
    },
    {
      "cell_type": "markdown",
      "source": [
        "## P1.2"
      ],
      "metadata": {
        "id": "WOWsp0NFOEAU"
      }
    },
    {
      "cell_type": "markdown",
      "source": [
        "### lat_dim = 5"
      ],
      "metadata": {
        "id": "ZA8o8j8uOIGn"
      }
    },
    {
      "cell_type": "code",
      "source": [
        "Model1 = Model(5, 0.0001)\n",
        "history1 = Model1.fit(train1_feature, train1_target, epochs=10, batch_size=128, \n",
        "    verbose=2, validation_split = 0.1, validation_data = None)"
      ],
      "metadata": {
        "colab": {
          "base_uri": "https://localhost:8080/"
        },
        "id": "-CfdTkyELiSD",
        "outputId": "ac312336-54b7-4a09-bc99-9cdc3cb042f1"
      },
      "execution_count": 114,
      "outputs": [
        {
          "output_type": "stream",
          "name": "stdout",
          "text": [
            "Epoch 1/10\n",
            "704/704 - 3s - loss: 0.1496 - val_loss: 0.1152 - 3s/epoch - 4ms/step\n",
            "Epoch 2/10\n",
            "704/704 - 2s - loss: 0.0937 - val_loss: 0.0758 - 2s/epoch - 3ms/step\n",
            "Epoch 3/10\n",
            "704/704 - 2s - loss: 0.0648 - val_loss: 0.0556 - 2s/epoch - 3ms/step\n",
            "Epoch 4/10\n",
            "704/704 - 2s - loss: 0.0499 - val_loss: 0.0452 - 2s/epoch - 3ms/step\n",
            "Epoch 5/10\n",
            "704/704 - 2s - loss: 0.0421 - val_loss: 0.0397 - 2s/epoch - 3ms/step\n",
            "Epoch 6/10\n",
            "704/704 - 2s - loss: 0.0379 - val_loss: 0.0365 - 2s/epoch - 3ms/step\n",
            "Epoch 7/10\n",
            "704/704 - 2s - loss: 0.0354 - val_loss: 0.0345 - 2s/epoch - 3ms/step\n",
            "Epoch 8/10\n",
            "704/704 - 2s - loss: 0.0337 - val_loss: 0.0331 - 2s/epoch - 3ms/step\n",
            "Epoch 9/10\n",
            "704/704 - 2s - loss: 0.0324 - val_loss: 0.0319 - 2s/epoch - 3ms/step\n",
            "Epoch 10/10\n",
            "704/704 - 2s - loss: 0.0313 - val_loss: 0.0309 - 2s/epoch - 3ms/step\n"
          ]
        }
      ]
    },
    {
      "cell_type": "code",
      "source": [
        "plt.plot(history1.history['loss'], label='training loss')\n",
        "plt.plot(history1.history['val_loss'], label='validation loss')\n",
        "plt.xlabel('Epoch')\n",
        "plt.ylabel('Error')\n",
        "plt.legend()\n",
        "plt.grid(True)\n",
        "plt.show()"
      ],
      "metadata": {
        "colab": {
          "base_uri": "https://localhost:8080/",
          "height": 300
        },
        "id": "pqK4FOWfm_GY",
        "outputId": "dac0b02e-a99c-4422-a2f9-2c6d7e2f8145"
      },
      "execution_count": 115,
      "outputs": [
        {
          "output_type": "display_data",
          "data": {
            "image/png": "[encoded data removed]",
            "text/plain": [
              "<Figure size 432x288 with 1 Axes>"
            ]
          },
          "metadata": {
            "needs_background": "light"
          }
        }
      ]
    },
    {
      "cell_type": "code",
      "source": [
        "Model1.evaluate(test1_feature1,test1_target,verbose=2)"
      ],
      "metadata": {
        "colab": {
          "base_uri": "https://localhost:8080/"
        },
        "id": "a_vYG1ZOnwrI",
        "outputId": "53ead37c-7768-4823-846d-f91b5c9bf982"
      },
      "execution_count": 116,
      "outputs": [
        {
          "output_type": "stream",
          "name": "stdout",
          "text": [
            "313/313 - 1s - loss: 0.0312 - 633ms/epoch - 2ms/step\n"
          ]
        },
        {
          "output_type": "execute_result",
          "data": {
            "text/plain": [
              "0.031236547976732254"
            ]
          },
          "metadata": {},
          "execution_count": 116
        }
      ]
    },
    {
      "cell_type": "markdown",
      "source": [
        "### lat_dim = 100"
      ],
      "metadata": {
        "id": "lvNv7qVKPoc4"
      }
    },
    {
      "cell_type": "code",
      "source": [
        "Model2 = Model(100,0.0001)\n",
        "history2 = Model2.fit(train1_feature, train1_target, epochs=10, batch_size=128, \n",
        "    verbose=2, validation_split = 0.1, validation_data = None)"
      ],
      "metadata": {
        "colab": {
          "base_uri": "https://localhost:8080/"
        },
        "id": "HzvOxh_nPnax",
        "outputId": "5af41d9f-f88b-4eda-d74a-22ad1f86ea63"
      },
      "execution_count": 117,
      "outputs": [
        {
          "output_type": "stream",
          "name": "stdout",
          "text": [
            "Epoch 1/10\n",
            "704/704 - 3s - loss: 0.2547 - val_loss: 0.0957 - 3s/epoch - 4ms/step\n",
            "Epoch 2/10\n",
            "704/704 - 2s - loss: 0.0580 - val_loss: 0.0370 - 2s/epoch - 3ms/step\n",
            "Epoch 3/10\n",
            "704/704 - 2s - loss: 0.0322 - val_loss: 0.0283 - 2s/epoch - 3ms/step\n",
            "Epoch 4/10\n",
            "704/704 - 2s - loss: 0.0273 - val_loss: 0.0256 - 2s/epoch - 3ms/step\n",
            "Epoch 5/10\n",
            "704/704 - 2s - loss: 0.0251 - val_loss: 0.0239 - 2s/epoch - 3ms/step\n",
            "Epoch 6/10\n",
            "704/704 - 2s - loss: 0.0236 - val_loss: 0.0225 - 2s/epoch - 3ms/step\n",
            "Epoch 7/10\n",
            "704/704 - 2s - loss: 0.0223 - val_loss: 0.0214 - 2s/epoch - 3ms/step\n",
            "Epoch 8/10\n",
            "704/704 - 2s - loss: 0.0213 - val_loss: 0.0205 - 2s/epoch - 3ms/step\n",
            "Epoch 9/10\n",
            "704/704 - 2s - loss: 0.0204 - val_loss: 0.0197 - 2s/epoch - 3ms/step\n",
            "Epoch 10/10\n",
            "704/704 - 2s - loss: 0.0197 - val_loss: 0.0190 - 2s/epoch - 3ms/step\n"
          ]
        }
      ]
    },
    {
      "cell_type": "code",
      "source": [
        "plt.plot(history2.history['loss'], label='training loss')\n",
        "plt.plot(history2.history['val_loss'], label='validation loss')\n",
        "plt.xlabel('Epoch')\n",
        "plt.ylabel('Error')\n",
        "plt.legend()\n",
        "plt.grid(True)\n",
        "plt.show()"
      ],
      "metadata": {
        "colab": {
          "base_uri": "https://localhost:8080/",
          "height": 300
        },
        "id": "1mTkpkx9QNal",
        "outputId": "25b9bed2-5a0c-4c96-a8cc-1e1ad6c99421"
      },
      "execution_count": 118,
      "outputs": [
        {
          "output_type": "display_data",
          "data": {
            "image/png": "[encoded data removed]",
            "text/plain": [
              "<Figure size 432x288 with 1 Axes>"
            ]
          },
          "metadata": {
            "needs_background": "light"
          }
        }
      ]
    },
    {
      "cell_type": "code",
      "source": [
        "Model2.evaluate(test1_feature1,test1_target,verbose=0)"
      ],
      "metadata": {
        "colab": {
          "base_uri": "https://localhost:8080/"
        },
        "id": "B2F2RYQVT20z",
        "outputId": "198cdfb4-18d0-4733-8386-00a2719a6341"
      },
      "execution_count": 119,
      "outputs": [
        {
          "output_type": "execute_result",
          "data": {
            "text/plain": [
              "0.019299013540148735"
            ]
          },
          "metadata": {},
          "execution_count": 119
        }
      ]
    },
    {
      "cell_type": "markdown",
      "source": [
        "The test MSE is 0.0193 when lat_dim is 100, which is lower than 0.0312 when lat_dim is 5. It indicate that increase the latent space might be a good choice. "
      ],
      "metadata": {
        "id": "TYlNwwsIeavj"
      }
    },
    {
      "cell_type": "markdown",
      "source": [
        "## P1.3"
      ],
      "metadata": {
        "id": "LDE5wNLQzUzy"
      }
    },
    {
      "cell_type": "markdown",
      "source": [
        " ### learning rates = 0.01"
      ],
      "metadata": {
        "id": "8yjjH4WFZRPb"
      }
    },
    {
      "cell_type": "code",
      "source": [
        "Model3 = Model(100,0.01)\n",
        "history3 = Model3.fit(train1_feature, train1_target, epochs=10, batch_size=128, \n",
        "    verbose=0, validation_split = 0.1, validation_data = None)"
      ],
      "metadata": {
        "id": "VagBB1N8ZX1f"
      },
      "execution_count": 120,
      "outputs": []
    },
    {
      "cell_type": "code",
      "source": [
        "Model3.evaluate(test1_feature1,test1_target,verbose=0)"
      ],
      "metadata": {
        "colab": {
          "base_uri": "https://localhost:8080/"
        },
        "id": "bHV0FSYscqpn",
        "outputId": "8140ddaa-a325-409a-f539-3f0492c7b8f7"
      },
      "execution_count": 121,
      "outputs": [
        {
          "output_type": "execute_result",
          "data": {
            "text/plain": [
              "0.003937091678380966"
            ]
          },
          "metadata": {},
          "execution_count": 121
        }
      ]
    },
    {
      "cell_type": "markdown",
      "source": [
        "### learning rates = 0.1"
      ],
      "metadata": {
        "id": "L_DKwx_SZYfY"
      }
    },
    {
      "cell_type": "code",
      "source": [
        "Model4 = Model(100,0.1)\n",
        "history4 = Model4.fit(train1_feature, train1_target, epochs=10, batch_size=128, \n",
        "    verbose=0, validation_split = 0.1, validation_data = None)"
      ],
      "metadata": {
        "id": "n6yLKmJfZYsj"
      },
      "execution_count": 122,
      "outputs": []
    },
    {
      "cell_type": "code",
      "source": [
        "Model4.evaluate(test1_feature1,test1_target,verbose=0)"
      ],
      "metadata": {
        "colab": {
          "base_uri": "https://localhost:8080/"
        },
        "id": "TBcyNl7Dcw8v",
        "outputId": "56ec5c06-a81a-4008-b3a8-63e231dd41a1"
      },
      "execution_count": 123,
      "outputs": [
        {
          "output_type": "execute_result",
          "data": {
            "text/plain": [
              "0.002628923859447241"
            ]
          },
          "metadata": {},
          "execution_count": 123
        }
      ]
    },
    {
      "cell_type": "markdown",
      "source": [
        " ### learning rates = 0.5"
      ],
      "metadata": {
        "id": "Mr8ibH7CZY3v"
      }
    },
    {
      "cell_type": "code",
      "source": [
        "Model5 = Model(100,0.5)\n",
        "history5 = Model5.fit(train1_feature, train1_target, epochs=10, batch_size=128, \n",
        "    verbose=0, validation_split = 0.1, validation_data = None)"
      ],
      "metadata": {
        "id": "ux9FosjSZyS0"
      },
      "execution_count": 124,
      "outputs": []
    },
    {
      "cell_type": "code",
      "source": [
        "Model5.evaluate(test1_feature1,test1_target,verbose=0)"
      ],
      "metadata": {
        "colab": {
          "base_uri": "https://localhost:8080/"
        },
        "id": "Y0323DXrdDay",
        "outputId": "6eab618a-ec1c-45c7-be4e-5207a7b367d1"
      },
      "execution_count": 125,
      "outputs": [
        {
          "output_type": "execute_result",
          "data": {
            "text/plain": [
              "nan"
            ]
          },
          "metadata": {},
          "execution_count": 125
        }
      ]
    },
    {
      "cell_type": "markdown",
      "source": [
        "The test MSE error gets smaller when we keep lat_dim = 100 and change the learning rate to 0.01 and 0.1. Howerer, the loss value is nan when learning rate is 0.5."
      ],
      "metadata": {
        "id": "XzweaATtc8iP"
      }
    },
    {
      "cell_type": "markdown",
      "source": [
        "## P1.4"
      ],
      "metadata": {
        "id": "pBHdiBobzVBQ"
      }
    },
    {
      "cell_type": "markdown",
      "source": [
        "### Model with ReLU activation functions (50 epochs)"
      ],
      "metadata": {
        "id": "oAjmNEhWa3x8"
      }
    },
    {
      "cell_type": "code",
      "source": [
        "Model6 = Model(100,0.0001)\n",
        "history6 = Model6.fit(train1_feature, train1_target, epochs=50, batch_size=128, \n",
        "    verbose=2, validation_split = 0.1, validation_data = None)"
      ],
      "metadata": {
        "colab": {
          "base_uri": "https://localhost:8080/"
        },
        "id": "qS3DoafHaAoK",
        "outputId": "f6402421-ea7e-491a-b42a-4207bd1ae27e"
      },
      "execution_count": 126,
      "outputs": [
        {
          "output_type": "stream",
          "name": "stdout",
          "text": [
            "Epoch 1/50\n",
            "704/704 - 2s - loss: 0.1391 - val_loss: 0.0750 - 2s/epoch - 3ms/step\n",
            "Epoch 2/50\n",
            "704/704 - 2s - loss: 0.0590 - val_loss: 0.0488 - 2s/epoch - 3ms/step\n",
            "Epoch 3/50\n",
            "704/704 - 2s - loss: 0.0447 - val_loss: 0.0406 - 2s/epoch - 3ms/step\n",
            "Epoch 4/50\n",
            "704/704 - 2s - loss: 0.0381 - val_loss: 0.0353 - 2s/epoch - 3ms/step\n",
            "Epoch 5/50\n",
            "704/704 - 2s - loss: 0.0335 - val_loss: 0.0312 - 2s/epoch - 3ms/step\n",
            "Epoch 6/50\n",
            "704/704 - 2s - loss: 0.0298 - val_loss: 0.0280 - 2s/epoch - 3ms/step\n",
            "Epoch 7/50\n",
            "704/704 - 2s - loss: 0.0269 - val_loss: 0.0254 - 2s/epoch - 3ms/step\n",
            "Epoch 8/50\n",
            "704/704 - 2s - loss: 0.0246 - val_loss: 0.0233 - 2s/epoch - 3ms/step\n",
            "Epoch 9/50\n",
            "704/704 - 2s - loss: 0.0227 - val_loss: 0.0217 - 2s/epoch - 3ms/step\n",
            "Epoch 10/50\n",
            "704/704 - 2s - loss: 0.0211 - val_loss: 0.0203 - 2s/epoch - 3ms/step\n",
            "Epoch 11/50\n",
            "704/704 - 2s - loss: 0.0198 - val_loss: 0.0191 - 2s/epoch - 3ms/step\n",
            "Epoch 12/50\n",
            "704/704 - 2s - loss: 0.0188 - val_loss: 0.0182 - 2s/epoch - 3ms/step\n",
            "Epoch 13/50\n",
            "704/704 - 2s - loss: 0.0179 - val_loss: 0.0174 - 2s/epoch - 3ms/step\n",
            "Epoch 14/50\n",
            "704/704 - 2s - loss: 0.0171 - val_loss: 0.0167 - 2s/epoch - 3ms/step\n",
            "Epoch 15/50\n",
            "704/704 - 2s - loss: 0.0165 - val_loss: 0.0161 - 2s/epoch - 3ms/step\n",
            "Epoch 16/50\n",
            "704/704 - 2s - loss: 0.0159 - val_loss: 0.0156 - 2s/epoch - 3ms/step\n",
            "Epoch 17/50\n",
            "704/704 - 2s - loss: 0.0154 - val_loss: 0.0151 - 2s/epoch - 3ms/step\n",
            "Epoch 18/50\n",
            "704/704 - 2s - loss: 0.0150 - val_loss: 0.0147 - 2s/epoch - 3ms/step\n",
            "Epoch 19/50\n",
            "704/704 - 2s - loss: 0.0146 - val_loss: 0.0144 - 2s/epoch - 3ms/step\n",
            "Epoch 20/50\n",
            "704/704 - 2s - loss: 0.0143 - val_loss: 0.0141 - 2s/epoch - 3ms/step\n",
            "Epoch 21/50\n",
            "704/704 - 2s - loss: 0.0140 - val_loss: 0.0138 - 2s/epoch - 3ms/step\n",
            "Epoch 22/50\n",
            "704/704 - 2s - loss: 0.0137 - val_loss: 0.0135 - 2s/epoch - 3ms/step\n",
            "Epoch 23/50\n",
            "704/704 - 2s - loss: 0.0135 - val_loss: 0.0133 - 2s/epoch - 3ms/step\n",
            "Epoch 24/50\n",
            "704/704 - 2s - loss: 0.0133 - val_loss: 0.0131 - 2s/epoch - 3ms/step\n",
            "Epoch 25/50\n",
            "704/704 - 2s - loss: 0.0130 - val_loss: 0.0129 - 2s/epoch - 3ms/step\n",
            "Epoch 26/50\n",
            "704/704 - 2s - loss: 0.0128 - val_loss: 0.0127 - 2s/epoch - 3ms/step\n",
            "Epoch 27/50\n",
            "704/704 - 2s - loss: 0.0127 - val_loss: 0.0125 - 2s/epoch - 3ms/step\n",
            "Epoch 28/50\n",
            "704/704 - 2s - loss: 0.0125 - val_loss: 0.0123 - 2s/epoch - 3ms/step\n",
            "Epoch 29/50\n",
            "704/704 - 2s - loss: 0.0123 - val_loss: 0.0122 - 2s/epoch - 3ms/step\n",
            "Epoch 30/50\n",
            "704/704 - 2s - loss: 0.0122 - val_loss: 0.0120 - 2s/epoch - 3ms/step\n",
            "Epoch 31/50\n",
            "704/704 - 2s - loss: 0.0120 - val_loss: 0.0119 - 2s/epoch - 3ms/step\n",
            "Epoch 32/50\n",
            "704/704 - 2s - loss: 0.0119 - val_loss: 0.0118 - 2s/epoch - 3ms/step\n",
            "Epoch 33/50\n",
            "704/704 - 2s - loss: 0.0117 - val_loss: 0.0116 - 2s/epoch - 3ms/step\n",
            "Epoch 34/50\n",
            "704/704 - 2s - loss: 0.0116 - val_loss: 0.0115 - 2s/epoch - 3ms/step\n",
            "Epoch 35/50\n",
            "704/704 - 2s - loss: 0.0115 - val_loss: 0.0114 - 2s/epoch - 3ms/step\n",
            "Epoch 36/50\n",
            "704/704 - 2s - loss: 0.0114 - val_loss: 0.0113 - 2s/epoch - 3ms/step\n",
            "Epoch 37/50\n",
            "704/704 - 2s - loss: 0.0113 - val_loss: 0.0112 - 2s/epoch - 3ms/step\n",
            "Epoch 38/50\n",
            "704/704 - 2s - loss: 0.0111 - val_loss: 0.0111 - 2s/epoch - 3ms/step\n",
            "Epoch 39/50\n",
            "704/704 - 2s - loss: 0.0110 - val_loss: 0.0109 - 2s/epoch - 3ms/step\n",
            "Epoch 40/50\n",
            "704/704 - 2s - loss: 0.0109 - val_loss: 0.0108 - 2s/epoch - 3ms/step\n",
            "Epoch 41/50\n",
            "704/704 - 2s - loss: 0.0108 - val_loss: 0.0108 - 2s/epoch - 3ms/step\n",
            "Epoch 42/50\n",
            "704/704 - 2s - loss: 0.0107 - val_loss: 0.0107 - 2s/epoch - 3ms/step\n",
            "Epoch 43/50\n",
            "704/704 - 2s - loss: 0.0106 - val_loss: 0.0106 - 2s/epoch - 3ms/step\n",
            "Epoch 44/50\n",
            "704/704 - 2s - loss: 0.0106 - val_loss: 0.0105 - 2s/epoch - 3ms/step\n",
            "Epoch 45/50\n",
            "704/704 - 2s - loss: 0.0105 - val_loss: 0.0104 - 2s/epoch - 3ms/step\n",
            "Epoch 46/50\n",
            "704/704 - 2s - loss: 0.0104 - val_loss: 0.0103 - 2s/epoch - 3ms/step\n",
            "Epoch 47/50\n",
            "704/704 - 2s - loss: 0.0103 - val_loss: 0.0102 - 2s/epoch - 3ms/step\n",
            "Epoch 48/50\n",
            "704/704 - 2s - loss: 0.0102 - val_loss: 0.0101 - 2s/epoch - 3ms/step\n",
            "Epoch 49/50\n",
            "704/704 - 2s - loss: 0.0101 - val_loss: 0.0101 - 2s/epoch - 3ms/step\n",
            "Epoch 50/50\n",
            "704/704 - 2s - loss: 0.0101 - val_loss: 0.0100 - 2s/epoch - 3ms/step\n"
          ]
        }
      ]
    },
    {
      "cell_type": "code",
      "source": [
        "plt.plot(history6.history['loss'], label='training loss')\n",
        "plt.plot(history6.history['val_loss'], label='validation loss')\n",
        "plt.xlabel('Epoch')\n",
        "plt.ylabel('Error')\n",
        "plt.legend()\n",
        "plt.grid(True)\n",
        "plt.show()"
      ],
      "metadata": {
        "colab": {
          "base_uri": "https://localhost:8080/",
          "height": 300
        },
        "id": "vvH3nhE6gp__",
        "outputId": "05aa9e20-6b0b-4057-9b7a-0d456743533e"
      },
      "execution_count": 127,
      "outputs": [
        {
          "output_type": "display_data",
          "data": {
            "image/png": "[encoded data removed]",
            "text/plain": [
              "<Figure size 432x288 with 1 Axes>"
            ]
          },
          "metadata": {
            "needs_background": "light"
          }
        }
      ]
    },
    {
      "cell_type": "code",
      "source": [
        "Model6.evaluate(test1_feature1,test1_target,verbose=0)"
      ],
      "metadata": {
        "colab": {
          "base_uri": "https://localhost:8080/"
        },
        "id": "rk4TQdekeBgD",
        "outputId": "e732ebe3-db1a-4ab2-83e4-66c254690513"
      },
      "execution_count": 128,
      "outputs": [
        {
          "output_type": "execute_result",
          "data": {
            "text/plain": [
              "0.010199460200965405"
            ]
          },
          "metadata": {},
          "execution_count": 128
        }
      ]
    },
    {
      "cell_type": "markdown",
      "source": [
        "Compared to lat_dim = 100 and 10 epochs in Part 1.2, the test MSE continues to decrease as we run more epochs."
      ],
      "metadata": {
        "id": "goQePiUQyvnw"
      }
    },
    {
      "cell_type": "markdown",
      "source": [
        "### Model with sigmoid activation functions"
      ],
      "metadata": {
        "id": "FAvnxub1a4QA"
      }
    },
    {
      "cell_type": "code",
      "source": [
        "Model7 = keras.Sequential(name='First_model')\n",
        "Model7.add(feature1_normaliser)\n",
        "# phi\n",
        "Model7.add(layers.Dense(100,activation='sigmoid',name='phi'))\n",
        "# The output layer with lat_dim output units\n",
        "Model7.add(layers.Dense(100))\n",
        "# rho\n",
        "Model7.add(layers.Dense(100,activation='sigmoid',name='rho'))\n",
        "Model7.add(layers.Dense(1))\n",
        "\n",
        "Model7.compile(\n",
        "    optimizer=tf.optimizers.SGD(learning_rate=0.0001),\n",
        "    loss='mean_squared_error')"
      ],
      "metadata": {
        "id": "OpXVdmxMbRFK"
      },
      "execution_count": 129,
      "outputs": []
    },
    {
      "cell_type": "code",
      "source": [
        "history7 = Model7.fit(train1_feature, train1_target, epochs=50, batch_size=128, \n",
        "    verbose=2, validation_split = 0.1, validation_data = None)"
      ],
      "metadata": {
        "colab": {
          "base_uri": "https://localhost:8080/"
        },
        "id": "ck2nbchYb8Bv",
        "outputId": "8c2e3b96-8e47-4c7d-c6c8-93cd192c1835"
      },
      "execution_count": 130,
      "outputs": [
        {
          "output_type": "stream",
          "name": "stdout",
          "text": [
            "Epoch 1/50\n",
            "704/704 - 3s - loss: 0.0345 - val_loss: 0.0220 - 3s/epoch - 4ms/step\n",
            "Epoch 2/50\n",
            "704/704 - 2s - loss: 0.0218 - val_loss: 0.0218 - 2s/epoch - 3ms/step\n",
            "Epoch 3/50\n",
            "704/704 - 2s - loss: 0.0217 - val_loss: 0.0216 - 2s/epoch - 3ms/step\n",
            "Epoch 4/50\n",
            "704/704 - 2s - loss: 0.0215 - val_loss: 0.0215 - 2s/epoch - 3ms/step\n",
            "Epoch 5/50\n",
            "704/704 - 3s - loss: 0.0213 - val_loss: 0.0213 - 3s/epoch - 4ms/step\n",
            "Epoch 6/50\n",
            "704/704 - 3s - loss: 0.0212 - val_loss: 0.0211 - 3s/epoch - 4ms/step\n",
            "Epoch 7/50\n",
            "704/704 - 2s - loss: 0.0210 - val_loss: 0.0210 - 2s/epoch - 3ms/step\n",
            "Epoch 8/50\n",
            "704/704 - 2s - loss: 0.0208 - val_loss: 0.0208 - 2s/epoch - 3ms/step\n",
            "Epoch 9/50\n",
            "704/704 - 2s - loss: 0.0207 - val_loss: 0.0206 - 2s/epoch - 3ms/step\n",
            "Epoch 10/50\n",
            "704/704 - 2s - loss: 0.0205 - val_loss: 0.0205 - 2s/epoch - 3ms/step\n",
            "Epoch 11/50\n",
            "704/704 - 2s - loss: 0.0204 - val_loss: 0.0203 - 2s/epoch - 3ms/step\n",
            "Epoch 12/50\n",
            "704/704 - 2s - loss: 0.0202 - val_loss: 0.0202 - 2s/epoch - 3ms/step\n",
            "Epoch 13/50\n",
            "704/704 - 2s - loss: 0.0201 - val_loss: 0.0200 - 2s/epoch - 3ms/step\n",
            "Epoch 14/50\n",
            "704/704 - 3s - loss: 0.0199 - val_loss: 0.0199 - 3s/epoch - 5ms/step\n",
            "Epoch 15/50\n",
            "704/704 - 3s - loss: 0.0198 - val_loss: 0.0197 - 3s/epoch - 4ms/step\n",
            "Epoch 16/50\n",
            "704/704 - 2s - loss: 0.0196 - val_loss: 0.0196 - 2s/epoch - 3ms/step\n",
            "Epoch 17/50\n",
            "704/704 - 2s - loss: 0.0195 - val_loss: 0.0194 - 2s/epoch - 3ms/step\n",
            "Epoch 18/50\n",
            "704/704 - 2s - loss: 0.0193 - val_loss: 0.0193 - 2s/epoch - 3ms/step\n",
            "Epoch 19/50\n",
            "704/704 - 2s - loss: 0.0192 - val_loss: 0.0191 - 2s/epoch - 3ms/step\n",
            "Epoch 20/50\n",
            "704/704 - 2s - loss: 0.0190 - val_loss: 0.0190 - 2s/epoch - 3ms/step\n",
            "Epoch 21/50\n",
            "704/704 - 2s - loss: 0.0189 - val_loss: 0.0189 - 2s/epoch - 3ms/step\n",
            "Epoch 22/50\n",
            "704/704 - 2s - loss: 0.0188 - val_loss: 0.0187 - 2s/epoch - 3ms/step\n",
            "Epoch 23/50\n",
            "704/704 - 2s - loss: 0.0186 - val_loss: 0.0186 - 2s/epoch - 3ms/step\n",
            "Epoch 24/50\n",
            "704/704 - 2s - loss: 0.0185 - val_loss: 0.0184 - 2s/epoch - 3ms/step\n",
            "Epoch 25/50\n",
            "704/704 - 2s - loss: 0.0184 - val_loss: 0.0183 - 2s/epoch - 3ms/step\n",
            "Epoch 26/50\n",
            "704/704 - 2s - loss: 0.0182 - val_loss: 0.0182 - 2s/epoch - 3ms/step\n",
            "Epoch 27/50\n",
            "704/704 - 2s - loss: 0.0181 - val_loss: 0.0180 - 2s/epoch - 3ms/step\n",
            "Epoch 28/50\n",
            "704/704 - 2s - loss: 0.0180 - val_loss: 0.0179 - 2s/epoch - 3ms/step\n",
            "Epoch 29/50\n",
            "704/704 - 2s - loss: 0.0178 - val_loss: 0.0178 - 2s/epoch - 3ms/step\n",
            "Epoch 30/50\n",
            "704/704 - 2s - loss: 0.0177 - val_loss: 0.0177 - 2s/epoch - 3ms/step\n",
            "Epoch 31/50\n",
            "704/704 - 2s - loss: 0.0176 - val_loss: 0.0175 - 2s/epoch - 3ms/step\n",
            "Epoch 32/50\n",
            "704/704 - 2s - loss: 0.0175 - val_loss: 0.0174 - 2s/epoch - 3ms/step\n",
            "Epoch 33/50\n",
            "704/704 - 2s - loss: 0.0173 - val_loss: 0.0173 - 2s/epoch - 3ms/step\n",
            "Epoch 34/50\n",
            "704/704 - 2s - loss: 0.0172 - val_loss: 0.0172 - 2s/epoch - 3ms/step\n",
            "Epoch 35/50\n",
            "704/704 - 2s - loss: 0.0171 - val_loss: 0.0170 - 2s/epoch - 3ms/step\n",
            "Epoch 36/50\n",
            "704/704 - 2s - loss: 0.0170 - val_loss: 0.0169 - 2s/epoch - 3ms/step\n",
            "Epoch 37/50\n",
            "704/704 - 2s - loss: 0.0169 - val_loss: 0.0168 - 2s/epoch - 3ms/step\n",
            "Epoch 38/50\n",
            "704/704 - 2s - loss: 0.0167 - val_loss: 0.0167 - 2s/epoch - 3ms/step\n",
            "Epoch 39/50\n",
            "704/704 - 2s - loss: 0.0166 - val_loss: 0.0166 - 2s/epoch - 3ms/step\n",
            "Epoch 40/50\n",
            "704/704 - 2s - loss: 0.0165 - val_loss: 0.0165 - 2s/epoch - 3ms/step\n",
            "Epoch 41/50\n",
            "704/704 - 2s - loss: 0.0164 - val_loss: 0.0163 - 2s/epoch - 3ms/step\n",
            "Epoch 42/50\n",
            "704/704 - 2s - loss: 0.0163 - val_loss: 0.0162 - 2s/epoch - 3ms/step\n",
            "Epoch 43/50\n",
            "704/704 - 2s - loss: 0.0162 - val_loss: 0.0161 - 2s/epoch - 3ms/step\n",
            "Epoch 44/50\n",
            "704/704 - 2s - loss: 0.0161 - val_loss: 0.0160 - 2s/epoch - 3ms/step\n",
            "Epoch 45/50\n",
            "704/704 - 2s - loss: 0.0159 - val_loss: 0.0159 - 2s/epoch - 3ms/step\n",
            "Epoch 46/50\n",
            "704/704 - 2s - loss: 0.0158 - val_loss: 0.0158 - 2s/epoch - 3ms/step\n",
            "Epoch 47/50\n",
            "704/704 - 2s - loss: 0.0157 - val_loss: 0.0157 - 2s/epoch - 3ms/step\n",
            "Epoch 48/50\n",
            "704/704 - 2s - loss: 0.0156 - val_loss: 0.0156 - 2s/epoch - 3ms/step\n",
            "Epoch 49/50\n",
            "704/704 - 2s - loss: 0.0155 - val_loss: 0.0154 - 2s/epoch - 3ms/step\n",
            "Epoch 50/50\n",
            "704/704 - 2s - loss: 0.0154 - val_loss: 0.0153 - 2s/epoch - 3ms/step\n"
          ]
        }
      ]
    },
    {
      "cell_type": "code",
      "source": [
        "plt.plot(history6.history['loss'], label='training loss')\n",
        "plt.plot(history6.history['val_loss'], label='validation loss')\n",
        "plt.xlabel('Epoch')\n",
        "plt.ylabel('Error')\n",
        "plt.legend()\n",
        "plt.grid(True)\n",
        "plt.show()"
      ],
      "metadata": {
        "colab": {
          "base_uri": "https://localhost:8080/",
          "height": 300
        },
        "id": "cEYd-wZChQUL",
        "outputId": "378da453-cb9b-4d0d-95a7-127eb66d8779"
      },
      "execution_count": 131,
      "outputs": [
        {
          "output_type": "display_data",
          "data": {
            "image/png": "[encoded data removed]",
            "text/plain": [
              "<Figure size 432x288 with 1 Axes>"
            ]
          },
          "metadata": {
            "needs_background": "light"
          }
        }
      ]
    },
    {
      "cell_type": "code",
      "source": [
        "Model7.evaluate(test1_feature1,test1_target,verbose=0)"
      ],
      "metadata": {
        "colab": {
          "base_uri": "https://localhost:8080/"
        },
        "id": "2y-8Ou5hhkyI",
        "outputId": "a14f3709-11df-4f83-ba88-43f212878539"
      },
      "execution_count": 132,
      "outputs": [
        {
          "output_type": "execute_result",
          "data": {
            "text/plain": [
              "0.015466658398509026"
            ]
          },
          "metadata": {},
          "execution_count": 132
        }
      ]
    },
    {
      "cell_type": "markdown",
      "source": [
        "### Comparing models"
      ],
      "metadata": {
        "id": "DfxEhf43h6Xl"
      }
    },
    {
      "cell_type": "code",
      "source": [
        "print(Model6.evaluate(test1_feature1,test1_target,verbose=0))\n",
        "print(Model7.evaluate(test1_feature1,test1_target,verbose=0))"
      ],
      "metadata": {
        "colab": {
          "base_uri": "https://localhost:8080/"
        },
        "id": "HXJvLudQ2YXf",
        "outputId": "ffe7a2f5-3f34-486e-e768-9cd4020f7702"
      },
      "execution_count": 133,
      "outputs": [
        {
          "output_type": "stream",
          "name": "stdout",
          "text": [
            "0.010199460200965405\n",
            "0.015466658398509026\n"
          ]
        }
      ]
    },
    {
      "cell_type": "markdown",
      "source": [
        "The test MSE is 0.0102 when using the ReLU activation function and 0.0155 when using the sigmoid activation function."
      ],
      "metadata": {
        "id": "kLKvj0wq2Y8d"
      }
    },
    {
      "cell_type": "code",
      "source": [
        "plt.plot(history6.history['loss'], label='Model 6 training loss',color='darkviolet')\n",
        "plt.plot(history7.history['loss'], label='Model 7 training loss',color='darkgreen')\n",
        "plt.ylim([0, 0.2])\n",
        "plt.legend()\n",
        "plt.grid(True)\n",
        "plt.show()"
      ],
      "metadata": {
        "colab": {
          "base_uri": "https://localhost:8080/",
          "height": 290
        },
        "id": "1bdmg2bOh5EK",
        "outputId": "f59b5dac-3ade-42aa-d665-1098366becbb"
      },
      "execution_count": 29,
      "outputs": [
        {
          "output_type": "display_data",
          "data": {
            "image/png": "[encoded data removed]",
            "text/plain": [
              "<Figure size 432x288 with 1 Axes>"
            ]
          },
          "metadata": {
            "needs_background": "light"
          }
        }
      ]
    },
    {
      "cell_type": "code",
      "source": [
        "plt.plot(history6.history['val_loss'], label='Model 6 validation loss',color='darkviolet')\n",
        "plt.plot(history7.history['val_loss'], label='Model 7 validation loss',color='darkgreen')\n",
        "plt.ylim([0, 0.2])\n",
        "plt.legend()\n",
        "plt.grid(True)\n",
        "plt.show()"
      ],
      "metadata": {
        "colab": {
          "base_uri": "https://localhost:8080/",
          "height": 289
        },
        "id": "pVt61hVsiHVB",
        "outputId": "dfaeea31-1d42-48d4-b376-86ff4135aed3"
      },
      "execution_count": 30,
      "outputs": [
        {
          "output_type": "display_data",
          "data": {
            "image/png": "[encoded data removed]",
            "text/plain": [
              "<Figure size 432x288 with 1 Axes>"
            ]
          },
          "metadata": {
            "needs_background": "light"
          }
        }
      ]
    },
    {
      "cell_type": "markdown",
      "source": [
        "The loss and validation loss plots for differnet activation functions show that the loss with ReLU function decreases when running more epochs. The sigmoid functions seems more steable. So using ReLU functions would be a good chocie."
      ],
      "metadata": {
        "id": "FcWh59NC4ZE8"
      }
    },
    {
      "cell_type": "markdown",
      "source": [
        "## P1.5"
      ],
      "metadata": {
        "id": "gYGrKpFkzVHR"
      }
    },
    {
      "cell_type": "markdown",
      "source": [
        "### Model definition"
      ],
      "metadata": {
        "id": "ja-lefs5KW77"
      }
    },
    {
      "cell_type": "code",
      "source": [
        "seed_value = 0\n",
        "tf.random.set_seed(seed_value)\n",
        "np.random.seed(seed_value)"
      ],
      "metadata": {
        "id": "1UU15Yhwmk05"
      },
      "execution_count": 9,
      "outputs": []
    },
    {
      "cell_type": "code",
      "source": [
        "from keras.callbacks import ModelCheckpoint"
      ],
      "metadata": {
        "id": "cZbvkZhHgYJp"
      },
      "execution_count": 10,
      "outputs": []
    },
    {
      "cell_type": "code",
      "source": [
        "# Construct a matrix to store the test MSE for the best models\n",
        "test_MSE = np.zeros([5,19])\n",
        "for run in [1,2,3,4,5]:\n",
        "    print(run)\n",
        "    MSE = []\n",
        "    for value in [1,2,3,4,5,6,7,8,9,10,20,30,40,50,60,70,80,90,100]:\n",
        "             model= Model(value, 0.0001)\n",
        "             # Select the best model using callbacks\n",
        "             checkpointer = ModelCheckpoint(filepath='model.best.hdf5', verbose=1, save_best_only=True)\n",
        "             # Train the model\n",
        "             history = model.fit(train1_feature, train1_target, epochs=5, batch_size=128, \n",
        "                 verbose=0, validation_split = 0.1, callbacks=[checkpointer], shuffle=True)\n",
        "             # Load the weights that yielded the best validation accuracy\n",
        "             model.load_weights('model.best.hdf5')\n",
        "             # Evaluate test MSE\n",
        "             MSE.append(model.evaluate(test1_feature1,test1_target,verbose=0))\n",
        "    # Substitute MSE for each runs to the test_MSE matrix\n",
        "    test_MSE[run-1,:] = MSE"
      ],
      "metadata": {
        "id": "LelFD5ACrGEP",
        "colab": {
          "base_uri": "https://localhost:8080/"
        },
        "outputId": "505600c0-3c73-4822-c22f-7d587dc294b6"
      },
      "execution_count": 11,
      "outputs": [
        {
          "output_type": "stream",
          "name": "stdout",
          "text": [
            "1\n",
            "\n",
            "Epoch 1: val_loss improved from inf to 0.19071, saving model to model.best.hdf5\n",
            "\n",
            "Epoch 2: val_loss improved from 0.19071 to 0.12510, saving model to model.best.hdf5\n",
            "\n",
            "Epoch 3: val_loss improved from 0.12510 to 0.08426, saving model to model.best.hdf5\n",
            "\n",
            "Epoch 4: val_loss improved from 0.08426 to 0.05882, saving model to model.best.hdf5\n",
            "\n",
            "Epoch 5: val_loss improved from 0.05882 to 0.04305, saving model to model.best.hdf5\n",
            "\n",
            "Epoch 1: val_loss improved from inf to 0.09737, saving model to model.best.hdf5\n",
            "\n",
            "Epoch 2: val_loss improved from 0.09737 to 0.05465, saving model to model.best.hdf5\n",
            "\n",
            "Epoch 3: val_loss improved from 0.05465 to 0.03396, saving model to model.best.hdf5\n",
            "\n",
            "Epoch 4: val_loss improved from 0.03396 to 0.02459, saving model to model.best.hdf5\n",
            "\n",
            "Epoch 5: val_loss improved from 0.02459 to 0.02041, saving model to model.best.hdf5\n",
            "\n",
            "Epoch 1: val_loss improved from inf to 0.15398, saving model to model.best.hdf5\n",
            "\n",
            "Epoch 2: val_loss improved from 0.15398 to 0.09762, saving model to model.best.hdf5\n",
            "\n",
            "Epoch 3: val_loss improved from 0.09762 to 0.06623, saving model to model.best.hdf5\n",
            "\n",
            "Epoch 4: val_loss improved from 0.06623 to 0.04902, saving model to model.best.hdf5\n",
            "\n",
            "Epoch 5: val_loss improved from 0.04902 to 0.03960, saving model to model.best.hdf5\n",
            "\n",
            "Epoch 1: val_loss improved from inf to 0.15051, saving model to model.best.hdf5\n",
            "\n",
            "Epoch 2: val_loss improved from 0.15051 to 0.08260, saving model to model.best.hdf5\n",
            "\n",
            "Epoch 3: val_loss improved from 0.08260 to 0.04721, saving model to model.best.hdf5\n",
            "\n",
            "Epoch 4: val_loss improved from 0.04721 to 0.02934, saving model to model.best.hdf5\n",
            "\n",
            "Epoch 5: val_loss improved from 0.02934 to 0.02059, saving model to model.best.hdf5\n",
            "\n",
            "Epoch 1: val_loss improved from inf to 0.22854, saving model to model.best.hdf5\n",
            "\n",
            "Epoch 2: val_loss improved from 0.22854 to 0.14652, saving model to model.best.hdf5\n",
            "\n",
            "Epoch 3: val_loss improved from 0.14652 to 0.09707, saving model to model.best.hdf5\n",
            "\n",
            "Epoch 4: val_loss improved from 0.09707 to 0.06699, saving model to model.best.hdf5\n",
            "\n",
            "Epoch 5: val_loss improved from 0.06699 to 0.04866, saving model to model.best.hdf5\n",
            "\n",
            "Epoch 1: val_loss improved from inf to 0.06913, saving model to model.best.hdf5\n",
            "\n",
            "Epoch 2: val_loss improved from 0.06913 to 0.03798, saving model to model.best.hdf5\n",
            "\n",
            "Epoch 3: val_loss improved from 0.03798 to 0.02538, saving model to model.best.hdf5\n",
            "\n",
            "Epoch 4: val_loss improved from 0.02538 to 0.02047, saving model to model.best.hdf5\n",
            "\n",
            "Epoch 5: val_loss improved from 0.02047 to 0.01846, saving model to model.best.hdf5\n",
            "\n",
            "Epoch 1: val_loss improved from inf to 0.14352, saving model to model.best.hdf5\n",
            "\n",
            "Epoch 2: val_loss improved from 0.14352 to 0.09100, saving model to model.best.hdf5\n",
            "\n",
            "Epoch 3: val_loss improved from 0.09100 to 0.06846, saving model to model.best.hdf5\n",
            "\n",
            "Epoch 4: val_loss improved from 0.06846 to 0.05731, saving model to model.best.hdf5\n",
            "\n",
            "Epoch 5: val_loss improved from 0.05731 to 0.05057, saving model to model.best.hdf5\n",
            "\n",
            "Epoch 1: val_loss improved from inf to 0.15249, saving model to model.best.hdf5\n",
            "\n",
            "Epoch 2: val_loss improved from 0.15249 to 0.07550, saving model to model.best.hdf5\n",
            "\n",
            "Epoch 3: val_loss improved from 0.07550 to 0.04159, saving model to model.best.hdf5\n",
            "\n",
            "Epoch 4: val_loss improved from 0.04159 to 0.02657, saving model to model.best.hdf5\n",
            "\n",
            "Epoch 5: val_loss improved from 0.02657 to 0.01992, saving model to model.best.hdf5\n",
            "\n",
            "Epoch 1: val_loss improved from inf to 0.11686, saving model to model.best.hdf5\n",
            "\n",
            "Epoch 2: val_loss improved from 0.11686 to 0.06142, saving model to model.best.hdf5\n",
            "\n",
            "Epoch 3: val_loss improved from 0.06142 to 0.03890, saving model to model.best.hdf5\n",
            "\n",
            "Epoch 4: val_loss improved from 0.03890 to 0.02965, saving model to model.best.hdf5\n",
            "\n",
            "Epoch 5: val_loss improved from 0.02965 to 0.02550, saving model to model.best.hdf5\n",
            "\n",
            "Epoch 1: val_loss improved from inf to 0.26927, saving model to model.best.hdf5\n",
            "\n",
            "Epoch 2: val_loss improved from 0.26927 to 0.14137, saving model to model.best.hdf5\n",
            "\n",
            "Epoch 3: val_loss improved from 0.14137 to 0.07723, saving model to model.best.hdf5\n",
            "\n",
            "Epoch 4: val_loss improved from 0.07723 to 0.04455, saving model to model.best.hdf5\n",
            "\n",
            "Epoch 5: val_loss improved from 0.04455 to 0.02811, saving model to model.best.hdf5\n",
            "\n",
            "Epoch 1: val_loss improved from inf to 0.11504, saving model to model.best.hdf5\n",
            "\n",
            "Epoch 2: val_loss improved from 0.11504 to 0.06618, saving model to model.best.hdf5\n",
            "\n",
            "Epoch 3: val_loss improved from 0.06618 to 0.04996, saving model to model.best.hdf5\n",
            "\n",
            "Epoch 4: val_loss improved from 0.04996 to 0.04269, saving model to model.best.hdf5\n",
            "\n",
            "Epoch 5: val_loss improved from 0.04269 to 0.03827, saving model to model.best.hdf5\n",
            "\n",
            "Epoch 1: val_loss improved from inf to 0.05482, saving model to model.best.hdf5\n",
            "\n",
            "Epoch 2: val_loss improved from 0.05482 to 0.04225, saving model to model.best.hdf5\n",
            "\n",
            "Epoch 3: val_loss improved from 0.04225 to 0.03730, saving model to model.best.hdf5\n",
            "\n",
            "Epoch 4: val_loss improved from 0.03730 to 0.03424, saving model to model.best.hdf5\n",
            "\n",
            "Epoch 5: val_loss improved from 0.03424 to 0.03186, saving model to model.best.hdf5\n",
            "\n",
            "Epoch 1: val_loss improved from inf to 0.12952, saving model to model.best.hdf5\n",
            "\n",
            "Epoch 2: val_loss improved from 0.12952 to 0.07641, saving model to model.best.hdf5\n",
            "\n",
            "Epoch 3: val_loss improved from 0.07641 to 0.05984, saving model to model.best.hdf5\n",
            "\n",
            "Epoch 4: val_loss improved from 0.05984 to 0.05150, saving model to model.best.hdf5\n",
            "\n",
            "Epoch 5: val_loss improved from 0.05150 to 0.04563, saving model to model.best.hdf5\n",
            "\n",
            "Epoch 1: val_loss improved from inf to 0.07333, saving model to model.best.hdf5\n",
            "\n",
            "Epoch 2: val_loss improved from 0.07333 to 0.05087, saving model to model.best.hdf5\n",
            "\n",
            "Epoch 3: val_loss improved from 0.05087 to 0.04289, saving model to model.best.hdf5\n",
            "\n",
            "Epoch 4: val_loss improved from 0.04289 to 0.03808, saving model to model.best.hdf5\n",
            "\n",
            "Epoch 5: val_loss improved from 0.03808 to 0.03443, saving model to model.best.hdf5\n",
            "\n",
            "Epoch 1: val_loss improved from inf to 0.05242, saving model to model.best.hdf5\n",
            "\n",
            "Epoch 2: val_loss improved from 0.05242 to 0.03919, saving model to model.best.hdf5\n",
            "\n",
            "Epoch 3: val_loss improved from 0.03919 to 0.03453, saving model to model.best.hdf5\n",
            "\n",
            "Epoch 4: val_loss improved from 0.03453 to 0.03115, saving model to model.best.hdf5\n",
            "\n",
            "Epoch 5: val_loss improved from 0.03115 to 0.02850, saving model to model.best.hdf5\n",
            "\n",
            "Epoch 1: val_loss improved from inf to 0.06721, saving model to model.best.hdf5\n",
            "\n",
            "Epoch 2: val_loss improved from 0.06721 to 0.02964, saving model to model.best.hdf5\n",
            "\n",
            "Epoch 3: val_loss improved from 0.02964 to 0.02374, saving model to model.best.hdf5\n",
            "\n",
            "Epoch 4: val_loss improved from 0.02374 to 0.02208, saving model to model.best.hdf5\n",
            "\n",
            "Epoch 5: val_loss improved from 0.02208 to 0.02106, saving model to model.best.hdf5\n",
            "\n",
            "Epoch 1: val_loss improved from inf to 0.09760, saving model to model.best.hdf5\n",
            "\n",
            "Epoch 2: val_loss improved from 0.09760 to 0.04438, saving model to model.best.hdf5\n",
            "\n",
            "Epoch 3: val_loss improved from 0.04438 to 0.03282, saving model to model.best.hdf5\n",
            "\n",
            "Epoch 4: val_loss improved from 0.03282 to 0.02855, saving model to model.best.hdf5\n",
            "\n",
            "Epoch 5: val_loss improved from 0.02855 to 0.02590, saving model to model.best.hdf5\n",
            "\n",
            "Epoch 1: val_loss improved from inf to 0.07099, saving model to model.best.hdf5\n",
            "\n",
            "Epoch 2: val_loss improved from 0.07099 to 0.04696, saving model to model.best.hdf5\n",
            "\n",
            "Epoch 3: val_loss improved from 0.04696 to 0.03821, saving model to model.best.hdf5\n",
            "\n",
            "Epoch 4: val_loss improved from 0.03821 to 0.03251, saving model to model.best.hdf5\n",
            "\n",
            "Epoch 5: val_loss improved from 0.03251 to 0.02837, saving model to model.best.hdf5\n",
            "\n",
            "Epoch 1: val_loss improved from inf to 0.11603, saving model to model.best.hdf5\n",
            "\n",
            "Epoch 2: val_loss improved from 0.11603 to 0.08381, saving model to model.best.hdf5\n",
            "\n",
            "Epoch 3: val_loss improved from 0.08381 to 0.06779, saving model to model.best.hdf5\n",
            "\n",
            "Epoch 4: val_loss improved from 0.06779 to 0.05648, saving model to model.best.hdf5\n",
            "\n",
            "Epoch 5: val_loss improved from 0.05648 to 0.04806, saving model to model.best.hdf5\n",
            "2\n",
            "\n",
            "Epoch 1: val_loss improved from inf to 0.16382, saving model to model.best.hdf5\n",
            "\n",
            "Epoch 2: val_loss improved from 0.16382 to 0.09651, saving model to model.best.hdf5\n",
            "\n",
            "Epoch 3: val_loss improved from 0.09651 to 0.05996, saving model to model.best.hdf5\n",
            "\n",
            "Epoch 4: val_loss improved from 0.05996 to 0.04043, saving model to model.best.hdf5\n",
            "\n",
            "Epoch 5: val_loss improved from 0.04043 to 0.03029, saving model to model.best.hdf5\n",
            "\n",
            "Epoch 1: val_loss improved from inf to 0.15021, saving model to model.best.hdf5\n",
            "\n",
            "Epoch 2: val_loss improved from 0.15021 to 0.09575, saving model to model.best.hdf5\n",
            "\n",
            "Epoch 3: val_loss improved from 0.09575 to 0.06387, saving model to model.best.hdf5\n",
            "\n",
            "Epoch 4: val_loss improved from 0.06387 to 0.04582, saving model to model.best.hdf5\n",
            "\n",
            "Epoch 5: val_loss improved from 0.04582 to 0.03586, saving model to model.best.hdf5\n",
            "\n",
            "Epoch 1: val_loss improved from inf to 0.11660, saving model to model.best.hdf5\n",
            "\n",
            "Epoch 2: val_loss improved from 0.11660 to 0.07101, saving model to model.best.hdf5\n",
            "\n",
            "Epoch 3: val_loss improved from 0.07101 to 0.04942, saving model to model.best.hdf5\n",
            "\n",
            "Epoch 4: val_loss improved from 0.04942 to 0.03917, saving model to model.best.hdf5\n",
            "\n",
            "Epoch 5: val_loss improved from 0.03917 to 0.03385, saving model to model.best.hdf5\n",
            "\n",
            "Epoch 1: val_loss improved from inf to 0.12487, saving model to model.best.hdf5\n",
            "\n",
            "Epoch 2: val_loss improved from 0.12487 to 0.06945, saving model to model.best.hdf5\n",
            "\n",
            "Epoch 3: val_loss improved from 0.06945 to 0.04377, saving model to model.best.hdf5\n",
            "\n",
            "Epoch 4: val_loss improved from 0.04377 to 0.03220, saving model to model.best.hdf5\n",
            "\n",
            "Epoch 5: val_loss improved from 0.03220 to 0.02700, saving model to model.best.hdf5\n",
            "\n",
            "Epoch 1: val_loss improved from inf to 0.17929, saving model to model.best.hdf5\n",
            "\n",
            "Epoch 2: val_loss improved from 0.17929 to 0.11412, saving model to model.best.hdf5\n",
            "\n",
            "Epoch 3: val_loss improved from 0.11412 to 0.07786, saving model to model.best.hdf5\n",
            "\n",
            "Epoch 4: val_loss improved from 0.07786 to 0.05774, saving model to model.best.hdf5\n",
            "\n",
            "Epoch 5: val_loss improved from 0.05774 to 0.04645, saving model to model.best.hdf5\n",
            "\n",
            "Epoch 1: val_loss improved from inf to 0.18071, saving model to model.best.hdf5\n",
            "\n",
            "Epoch 2: val_loss improved from 0.18071 to 0.11298, saving model to model.best.hdf5\n",
            "\n",
            "Epoch 3: val_loss improved from 0.11298 to 0.07513, saving model to model.best.hdf5\n",
            "\n",
            "Epoch 4: val_loss improved from 0.07513 to 0.05374, saving model to model.best.hdf5\n",
            "\n",
            "Epoch 5: val_loss improved from 0.05374 to 0.04156, saving model to model.best.hdf5\n",
            "\n",
            "Epoch 1: val_loss improved from inf to 0.13404, saving model to model.best.hdf5\n",
            "\n",
            "Epoch 2: val_loss improved from 0.13404 to 0.08207, saving model to model.best.hdf5\n",
            "\n",
            "Epoch 3: val_loss improved from 0.08207 to 0.05545, saving model to model.best.hdf5\n",
            "\n",
            "Epoch 4: val_loss improved from 0.05545 to 0.04172, saving model to model.best.hdf5\n",
            "\n",
            "Epoch 5: val_loss improved from 0.04172 to 0.03438, saving model to model.best.hdf5\n",
            "\n",
            "Epoch 1: val_loss improved from inf to 0.10179, saving model to model.best.hdf5\n",
            "\n",
            "Epoch 2: val_loss improved from 0.10179 to 0.05860, saving model to model.best.hdf5\n",
            "\n",
            "Epoch 3: val_loss improved from 0.05860 to 0.04161, saving model to model.best.hdf5\n",
            "\n",
            "Epoch 4: val_loss improved from 0.04161 to 0.03424, saving model to model.best.hdf5\n",
            "\n",
            "Epoch 5: val_loss improved from 0.03424 to 0.03035, saving model to model.best.hdf5\n",
            "\n",
            "Epoch 1: val_loss improved from inf to 0.17279, saving model to model.best.hdf5\n",
            "\n",
            "Epoch 2: val_loss improved from 0.17279 to 0.09784, saving model to model.best.hdf5\n",
            "\n",
            "Epoch 3: val_loss improved from 0.09784 to 0.05963, saving model to model.best.hdf5\n",
            "\n",
            "Epoch 4: val_loss improved from 0.05963 to 0.04019, saving model to model.best.hdf5\n",
            "\n",
            "Epoch 5: val_loss improved from 0.04019 to 0.03033, saving model to model.best.hdf5\n",
            "\n",
            "Epoch 1: val_loss improved from inf to 0.12475, saving model to model.best.hdf5\n",
            "\n",
            "Epoch 2: val_loss improved from 0.12475 to 0.07790, saving model to model.best.hdf5\n",
            "\n",
            "Epoch 3: val_loss improved from 0.07790 to 0.05931, saving model to model.best.hdf5\n",
            "\n",
            "Epoch 4: val_loss improved from 0.05931 to 0.05043, saving model to model.best.hdf5\n",
            "\n",
            "Epoch 5: val_loss improved from 0.05043 to 0.04508, saving model to model.best.hdf5\n",
            "\n",
            "Epoch 1: val_loss improved from inf to 0.07865, saving model to model.best.hdf5\n",
            "\n",
            "Epoch 2: val_loss improved from 0.07865 to 0.05919, saving model to model.best.hdf5\n",
            "\n",
            "Epoch 3: val_loss improved from 0.05919 to 0.04892, saving model to model.best.hdf5\n",
            "\n",
            "Epoch 4: val_loss improved from 0.04892 to 0.04256, saving model to model.best.hdf5\n",
            "\n",
            "Epoch 5: val_loss improved from 0.04256 to 0.03804, saving model to model.best.hdf5\n",
            "\n",
            "Epoch 1: val_loss improved from inf to 0.12373, saving model to model.best.hdf5\n",
            "\n",
            "Epoch 2: val_loss improved from 0.12373 to 0.06311, saving model to model.best.hdf5\n",
            "\n",
            "Epoch 3: val_loss improved from 0.06311 to 0.04716, saving model to model.best.hdf5\n",
            "\n",
            "Epoch 4: val_loss improved from 0.04716 to 0.04143, saving model to model.best.hdf5\n",
            "\n",
            "Epoch 5: val_loss improved from 0.04143 to 0.03816, saving model to model.best.hdf5\n",
            "\n",
            "Epoch 1: val_loss improved from inf to 0.10512, saving model to model.best.hdf5\n",
            "\n",
            "Epoch 2: val_loss improved from 0.10512 to 0.04495, saving model to model.best.hdf5\n",
            "\n",
            "Epoch 3: val_loss improved from 0.04495 to 0.03030, saving model to model.best.hdf5\n",
            "\n",
            "Epoch 4: val_loss improved from 0.03030 to 0.02605, saving model to model.best.hdf5\n",
            "\n",
            "Epoch 5: val_loss improved from 0.02605 to 0.02410, saving model to model.best.hdf5\n",
            "\n",
            "Epoch 1: val_loss improved from inf to 0.05525, saving model to model.best.hdf5\n",
            "\n",
            "Epoch 2: val_loss improved from 0.05525 to 0.04486, saving model to model.best.hdf5\n",
            "\n",
            "Epoch 3: val_loss improved from 0.04486 to 0.03910, saving model to model.best.hdf5\n",
            "\n",
            "Epoch 4: val_loss improved from 0.03910 to 0.03489, saving model to model.best.hdf5\n",
            "\n",
            "Epoch 5: val_loss improved from 0.03489 to 0.03160, saving model to model.best.hdf5\n",
            "\n",
            "Epoch 1: val_loss improved from inf to 0.07680, saving model to model.best.hdf5\n",
            "\n",
            "Epoch 2: val_loss improved from 0.07680 to 0.05899, saving model to model.best.hdf5\n",
            "\n",
            "Epoch 3: val_loss improved from 0.05899 to 0.04966, saving model to model.best.hdf5\n",
            "\n",
            "Epoch 4: val_loss improved from 0.04966 to 0.04326, saving model to model.best.hdf5\n",
            "\n",
            "Epoch 5: val_loss improved from 0.04326 to 0.03844, saving model to model.best.hdf5\n",
            "\n",
            "Epoch 1: val_loss improved from inf to 0.06380, saving model to model.best.hdf5\n",
            "\n",
            "Epoch 2: val_loss improved from 0.06380 to 0.04528, saving model to model.best.hdf5\n",
            "\n",
            "Epoch 3: val_loss improved from 0.04528 to 0.03942, saving model to model.best.hdf5\n",
            "\n",
            "Epoch 4: val_loss improved from 0.03942 to 0.03553, saving model to model.best.hdf5\n",
            "\n",
            "Epoch 5: val_loss improved from 0.03553 to 0.03254, saving model to model.best.hdf5\n",
            "\n",
            "Epoch 1: val_loss improved from inf to 0.05449, saving model to model.best.hdf5\n",
            "\n",
            "Epoch 2: val_loss improved from 0.05449 to 0.03757, saving model to model.best.hdf5\n",
            "\n",
            "Epoch 3: val_loss improved from 0.03757 to 0.03182, saving model to model.best.hdf5\n",
            "\n",
            "Epoch 4: val_loss improved from 0.03182 to 0.02818, saving model to model.best.hdf5\n",
            "\n",
            "Epoch 5: val_loss improved from 0.02818 to 0.02553, saving model to model.best.hdf5\n",
            "\n",
            "Epoch 1: val_loss improved from inf to 0.12580, saving model to model.best.hdf5\n",
            "\n",
            "Epoch 2: val_loss improved from 0.12580 to 0.07144, saving model to model.best.hdf5\n",
            "\n",
            "Epoch 3: val_loss improved from 0.07144 to 0.05400, saving model to model.best.hdf5\n",
            "\n",
            "Epoch 4: val_loss improved from 0.05400 to 0.04401, saving model to model.best.hdf5\n",
            "\n",
            "Epoch 5: val_loss improved from 0.04401 to 0.03719, saving model to model.best.hdf5\n",
            "\n",
            "Epoch 1: val_loss improved from inf to 0.09264, saving model to model.best.hdf5\n",
            "\n",
            "Epoch 2: val_loss improved from 0.09264 to 0.05485, saving model to model.best.hdf5\n",
            "\n",
            "Epoch 3: val_loss improved from 0.05485 to 0.04449, saving model to model.best.hdf5\n",
            "\n",
            "Epoch 4: val_loss improved from 0.04449 to 0.03849, saving model to model.best.hdf5\n",
            "\n",
            "Epoch 5: val_loss improved from 0.03849 to 0.03416, saving model to model.best.hdf5\n",
            "3\n",
            "\n",
            "Epoch 1: val_loss improved from inf to 0.15437, saving model to model.best.hdf5\n",
            "\n",
            "Epoch 2: val_loss improved from 0.15437 to 0.10332, saving model to model.best.hdf5\n",
            "\n",
            "Epoch 3: val_loss improved from 0.10332 to 0.07086, saving model to model.best.hdf5\n",
            "\n",
            "Epoch 4: val_loss improved from 0.07086 to 0.05054, saving model to model.best.hdf5\n",
            "\n",
            "Epoch 5: val_loss improved from 0.05054 to 0.03799, saving model to model.best.hdf5\n",
            "\n",
            "Epoch 1: val_loss improved from inf to 0.21815, saving model to model.best.hdf5\n",
            "\n",
            "Epoch 2: val_loss improved from 0.21815 to 0.13633, saving model to model.best.hdf5\n",
            "\n",
            "Epoch 3: val_loss improved from 0.13633 to 0.08813, saving model to model.best.hdf5\n",
            "\n",
            "Epoch 4: val_loss improved from 0.08813 to 0.05927, saving model to model.best.hdf5\n",
            "\n",
            "Epoch 5: val_loss improved from 0.05927 to 0.04200, saving model to model.best.hdf5\n",
            "\n",
            "Epoch 1: val_loss improved from inf to 0.19223, saving model to model.best.hdf5\n",
            "\n",
            "Epoch 2: val_loss improved from 0.19223 to 0.11576, saving model to model.best.hdf5\n",
            "\n",
            "Epoch 3: val_loss improved from 0.11576 to 0.07483, saving model to model.best.hdf5\n",
            "\n",
            "Epoch 4: val_loss improved from 0.07483 to 0.05252, saving model to model.best.hdf5\n",
            "\n",
            "Epoch 5: val_loss improved from 0.05252 to 0.04030, saving model to model.best.hdf5\n",
            "\n",
            "Epoch 1: val_loss improved from inf to 0.15343, saving model to model.best.hdf5\n",
            "\n",
            "Epoch 2: val_loss improved from 0.15343 to 0.08710, saving model to model.best.hdf5\n",
            "\n",
            "Epoch 3: val_loss improved from 0.08710 to 0.05219, saving model to model.best.hdf5\n",
            "\n",
            "Epoch 4: val_loss improved from 0.05219 to 0.03441, saving model to model.best.hdf5\n",
            "\n",
            "Epoch 5: val_loss improved from 0.03441 to 0.02561, saving model to model.best.hdf5\n",
            "\n",
            "Epoch 1: val_loss improved from inf to 0.13600, saving model to model.best.hdf5\n",
            "\n",
            "Epoch 2: val_loss improved from 0.13600 to 0.06828, saving model to model.best.hdf5\n",
            "\n",
            "Epoch 3: val_loss improved from 0.06828 to 0.04010, saving model to model.best.hdf5\n",
            "\n",
            "Epoch 4: val_loss improved from 0.04010 to 0.02855, saving model to model.best.hdf5\n",
            "\n",
            "Epoch 5: val_loss improved from 0.02855 to 0.02368, saving model to model.best.hdf5\n",
            "\n",
            "Epoch 1: val_loss improved from inf to 0.16420, saving model to model.best.hdf5\n",
            "\n",
            "Epoch 2: val_loss improved from 0.16420 to 0.08600, saving model to model.best.hdf5\n",
            "\n",
            "Epoch 3: val_loss improved from 0.08600 to 0.05373, saving model to model.best.hdf5\n",
            "\n",
            "Epoch 4: val_loss improved from 0.05373 to 0.04071, saving model to model.best.hdf5\n",
            "\n",
            "Epoch 5: val_loss improved from 0.04071 to 0.03524, saving model to model.best.hdf5\n",
            "\n",
            "Epoch 1: val_loss improved from inf to 0.09143, saving model to model.best.hdf5\n",
            "\n",
            "Epoch 2: val_loss improved from 0.09143 to 0.06134, saving model to model.best.hdf5\n",
            "\n",
            "Epoch 3: val_loss improved from 0.06134 to 0.04788, saving model to model.best.hdf5\n",
            "\n",
            "Epoch 4: val_loss improved from 0.04788 to 0.04093, saving model to model.best.hdf5\n",
            "\n",
            "Epoch 5: val_loss improved from 0.04093 to 0.03656, saving model to model.best.hdf5\n",
            "\n",
            "Epoch 1: val_loss improved from inf to 0.13143, saving model to model.best.hdf5\n",
            "\n",
            "Epoch 2: val_loss improved from 0.13143 to 0.07042, saving model to model.best.hdf5\n",
            "\n",
            "Epoch 3: val_loss improved from 0.07042 to 0.04253, saving model to model.best.hdf5\n",
            "\n",
            "Epoch 4: val_loss improved from 0.04253 to 0.02998, saving model to model.best.hdf5\n",
            "\n",
            "Epoch 5: val_loss improved from 0.02998 to 0.02441, saving model to model.best.hdf5\n",
            "\n",
            "Epoch 1: val_loss improved from inf to 0.09328, saving model to model.best.hdf5\n",
            "\n",
            "Epoch 2: val_loss improved from 0.09328 to 0.04557, saving model to model.best.hdf5\n",
            "\n",
            "Epoch 3: val_loss improved from 0.04557 to 0.02920, saving model to model.best.hdf5\n",
            "\n",
            "Epoch 4: val_loss improved from 0.02920 to 0.02355, saving model to model.best.hdf5\n",
            "\n",
            "Epoch 5: val_loss improved from 0.02355 to 0.02124, saving model to model.best.hdf5\n",
            "\n",
            "Epoch 1: val_loss improved from inf to 0.07879, saving model to model.best.hdf5\n",
            "\n",
            "Epoch 2: val_loss improved from 0.07879 to 0.04386, saving model to model.best.hdf5\n",
            "\n",
            "Epoch 3: val_loss improved from 0.04386 to 0.03206, saving model to model.best.hdf5\n",
            "\n",
            "Epoch 4: val_loss improved from 0.03206 to 0.02768, saving model to model.best.hdf5\n",
            "\n",
            "Epoch 5: val_loss improved from 0.02768 to 0.02558, saving model to model.best.hdf5\n",
            "\n",
            "Epoch 1: val_loss improved from inf to 0.10887, saving model to model.best.hdf5\n",
            "\n",
            "Epoch 2: val_loss improved from 0.10887 to 0.05469, saving model to model.best.hdf5\n",
            "\n",
            "Epoch 3: val_loss improved from 0.05469 to 0.04019, saving model to model.best.hdf5\n",
            "\n",
            "Epoch 4: val_loss improved from 0.04019 to 0.03509, saving model to model.best.hdf5\n",
            "\n",
            "Epoch 5: val_loss improved from 0.03509 to 0.03236, saving model to model.best.hdf5\n",
            "\n",
            "Epoch 1: val_loss improved from inf to 0.10269, saving model to model.best.hdf5\n",
            "\n",
            "Epoch 2: val_loss improved from 0.10269 to 0.06460, saving model to model.best.hdf5\n",
            "\n",
            "Epoch 3: val_loss improved from 0.06460 to 0.05318, saving model to model.best.hdf5\n",
            "\n",
            "Epoch 4: val_loss improved from 0.05318 to 0.04675, saving model to model.best.hdf5\n",
            "\n",
            "Epoch 5: val_loss improved from 0.04675 to 0.04186, saving model to model.best.hdf5\n",
            "\n",
            "Epoch 1: val_loss improved from inf to 0.06279, saving model to model.best.hdf5\n",
            "\n",
            "Epoch 2: val_loss improved from 0.06279 to 0.04389, saving model to model.best.hdf5\n",
            "\n",
            "Epoch 3: val_loss improved from 0.04389 to 0.03753, saving model to model.best.hdf5\n",
            "\n",
            "Epoch 4: val_loss improved from 0.03753 to 0.03350, saving model to model.best.hdf5\n",
            "\n",
            "Epoch 5: val_loss improved from 0.03350 to 0.03039, saving model to model.best.hdf5\n",
            "\n",
            "Epoch 1: val_loss improved from inf to 0.05314, saving model to model.best.hdf5\n",
            "\n",
            "Epoch 2: val_loss improved from 0.05314 to 0.04295, saving model to model.best.hdf5\n",
            "\n",
            "Epoch 3: val_loss improved from 0.04295 to 0.03796, saving model to model.best.hdf5\n",
            "\n",
            "Epoch 4: val_loss improved from 0.03796 to 0.03442, saving model to model.best.hdf5\n",
            "\n",
            "Epoch 5: val_loss improved from 0.03442 to 0.03161, saving model to model.best.hdf5\n",
            "\n",
            "Epoch 1: val_loss improved from inf to 0.09313, saving model to model.best.hdf5\n",
            "\n",
            "Epoch 2: val_loss improved from 0.09313 to 0.06522, saving model to model.best.hdf5\n",
            "\n",
            "Epoch 3: val_loss improved from 0.06522 to 0.05361, saving model to model.best.hdf5\n",
            "\n",
            "Epoch 4: val_loss improved from 0.05361 to 0.04618, saving model to model.best.hdf5\n",
            "\n",
            "Epoch 5: val_loss improved from 0.04618 to 0.04056, saving model to model.best.hdf5\n",
            "\n",
            "Epoch 1: val_loss improved from inf to 0.10565, saving model to model.best.hdf5\n",
            "\n",
            "Epoch 2: val_loss improved from 0.10565 to 0.06789, saving model to model.best.hdf5\n",
            "\n",
            "Epoch 3: val_loss improved from 0.06789 to 0.05440, saving model to model.best.hdf5\n",
            "\n",
            "Epoch 4: val_loss improved from 0.05440 to 0.04608, saving model to model.best.hdf5\n",
            "\n",
            "Epoch 5: val_loss improved from 0.04608 to 0.04006, saving model to model.best.hdf5\n",
            "\n",
            "Epoch 1: val_loss improved from inf to 0.07134, saving model to model.best.hdf5\n",
            "\n",
            "Epoch 2: val_loss improved from 0.07134 to 0.06026, saving model to model.best.hdf5\n",
            "\n",
            "Epoch 3: val_loss improved from 0.06026 to 0.05242, saving model to model.best.hdf5\n",
            "\n",
            "Epoch 4: val_loss improved from 0.05242 to 0.04636, saving model to model.best.hdf5\n",
            "\n",
            "Epoch 5: val_loss improved from 0.04636 to 0.04155, saving model to model.best.hdf5\n",
            "\n",
            "Epoch 1: val_loss improved from inf to 0.06147, saving model to model.best.hdf5\n",
            "\n",
            "Epoch 2: val_loss improved from 0.06147 to 0.04499, saving model to model.best.hdf5\n",
            "\n",
            "Epoch 3: val_loss improved from 0.04499 to 0.03695, saving model to model.best.hdf5\n",
            "\n",
            "Epoch 4: val_loss improved from 0.03695 to 0.03145, saving model to model.best.hdf5\n",
            "\n",
            "Epoch 5: val_loss improved from 0.03145 to 0.02742, saving model to model.best.hdf5\n",
            "\n",
            "Epoch 1: val_loss improved from inf to 0.08147, saving model to model.best.hdf5\n",
            "\n",
            "Epoch 2: val_loss improved from 0.08147 to 0.05007, saving model to model.best.hdf5\n",
            "\n",
            "Epoch 3: val_loss improved from 0.05007 to 0.04133, saving model to model.best.hdf5\n",
            "\n",
            "Epoch 4: val_loss improved from 0.04133 to 0.03600, saving model to model.best.hdf5\n",
            "\n",
            "Epoch 5: val_loss improved from 0.03600 to 0.03206, saving model to model.best.hdf5\n",
            "4\n",
            "\n",
            "Epoch 1: val_loss improved from inf to 0.16976, saving model to model.best.hdf5\n",
            "\n",
            "Epoch 2: val_loss improved from 0.16976 to 0.11138, saving model to model.best.hdf5\n",
            "\n",
            "Epoch 3: val_loss improved from 0.11138 to 0.07552, saving model to model.best.hdf5\n",
            "\n",
            "Epoch 4: val_loss improved from 0.07552 to 0.05377, saving model to model.best.hdf5\n",
            "\n",
            "Epoch 5: val_loss improved from 0.05377 to 0.04068, saving model to model.best.hdf5\n",
            "\n",
            "Epoch 1: val_loss improved from inf to 0.20198, saving model to model.best.hdf5\n",
            "\n",
            "Epoch 2: val_loss improved from 0.20198 to 0.12271, saving model to model.best.hdf5\n",
            "\n",
            "Epoch 3: val_loss improved from 0.12271 to 0.07837, saving model to model.best.hdf5\n",
            "\n",
            "Epoch 4: val_loss improved from 0.07837 to 0.05321, saving model to model.best.hdf5\n",
            "\n",
            "Epoch 5: val_loss improved from 0.05321 to 0.03899, saving model to model.best.hdf5\n",
            "\n",
            "Epoch 1: val_loss improved from inf to 0.12738, saving model to model.best.hdf5\n",
            "\n",
            "Epoch 2: val_loss improved from 0.12738 to 0.08233, saving model to model.best.hdf5\n",
            "\n",
            "Epoch 3: val_loss improved from 0.08233 to 0.05698, saving model to model.best.hdf5\n",
            "\n",
            "Epoch 4: val_loss improved from 0.05698 to 0.04307, saving model to model.best.hdf5\n",
            "\n",
            "Epoch 5: val_loss improved from 0.04307 to 0.03547, saving model to model.best.hdf5\n",
            "\n",
            "Epoch 1: val_loss improved from inf to 0.14235, saving model to model.best.hdf5\n",
            "\n",
            "Epoch 2: val_loss improved from 0.14235 to 0.08021, saving model to model.best.hdf5\n",
            "\n",
            "Epoch 3: val_loss improved from 0.08021 to 0.05046, saving model to model.best.hdf5\n",
            "\n",
            "Epoch 4: val_loss improved from 0.05046 to 0.03652, saving model to model.best.hdf5\n",
            "\n",
            "Epoch 5: val_loss improved from 0.03652 to 0.02995, saving model to model.best.hdf5\n",
            "\n",
            "Epoch 1: val_loss improved from inf to 0.15092, saving model to model.best.hdf5\n",
            "\n",
            "Epoch 2: val_loss improved from 0.15092 to 0.08911, saving model to model.best.hdf5\n",
            "\n",
            "Epoch 3: val_loss improved from 0.08911 to 0.05933, saving model to model.best.hdf5\n",
            "\n",
            "Epoch 4: val_loss improved from 0.05933 to 0.04501, saving model to model.best.hdf5\n",
            "\n",
            "Epoch 5: val_loss improved from 0.04501 to 0.03773, saving model to model.best.hdf5\n",
            "\n",
            "Epoch 1: val_loss improved from inf to 0.18141, saving model to model.best.hdf5\n",
            "\n",
            "Epoch 2: val_loss improved from 0.18141 to 0.11042, saving model to model.best.hdf5\n",
            "\n",
            "Epoch 3: val_loss improved from 0.11042 to 0.07271, saving model to model.best.hdf5\n",
            "\n",
            "Epoch 4: val_loss improved from 0.07271 to 0.05290, saving model to model.best.hdf5\n",
            "\n",
            "Epoch 5: val_loss improved from 0.05290 to 0.04250, saving model to model.best.hdf5\n",
            "\n",
            "Epoch 1: val_loss improved from inf to 0.09630, saving model to model.best.hdf5\n",
            "\n",
            "Epoch 2: val_loss improved from 0.09630 to 0.05970, saving model to model.best.hdf5\n",
            "\n",
            "Epoch 3: val_loss improved from 0.05970 to 0.04219, saving model to model.best.hdf5\n",
            "\n",
            "Epoch 4: val_loss improved from 0.04219 to 0.03367, saving model to model.best.hdf5\n",
            "\n",
            "Epoch 5: val_loss improved from 0.03367 to 0.02919, saving model to model.best.hdf5\n",
            "\n",
            "Epoch 1: val_loss improved from inf to 0.10887, saving model to model.best.hdf5\n",
            "\n",
            "Epoch 2: val_loss improved from 0.10887 to 0.05595, saving model to model.best.hdf5\n",
            "\n",
            "Epoch 3: val_loss improved from 0.05595 to 0.03640, saving model to model.best.hdf5\n",
            "\n",
            "Epoch 4: val_loss improved from 0.03640 to 0.02904, saving model to model.best.hdf5\n",
            "\n",
            "Epoch 5: val_loss improved from 0.02904 to 0.02593, saving model to model.best.hdf5\n",
            "\n",
            "Epoch 1: val_loss improved from inf to 0.15094, saving model to model.best.hdf5\n",
            "\n",
            "Epoch 2: val_loss improved from 0.15094 to 0.07781, saving model to model.best.hdf5\n",
            "\n",
            "Epoch 3: val_loss improved from 0.07781 to 0.05143, saving model to model.best.hdf5\n",
            "\n",
            "Epoch 4: val_loss improved from 0.05143 to 0.04046, saving model to model.best.hdf5\n",
            "\n",
            "Epoch 5: val_loss improved from 0.04046 to 0.03488, saving model to model.best.hdf5\n",
            "\n",
            "Epoch 1: val_loss improved from inf to 0.16133, saving model to model.best.hdf5\n",
            "\n",
            "Epoch 2: val_loss improved from 0.16133 to 0.08470, saving model to model.best.hdf5\n",
            "\n",
            "Epoch 3: val_loss improved from 0.08470 to 0.05388, saving model to model.best.hdf5\n",
            "\n",
            "Epoch 4: val_loss improved from 0.05388 to 0.04094, saving model to model.best.hdf5\n",
            "\n",
            "Epoch 5: val_loss improved from 0.04094 to 0.03491, saving model to model.best.hdf5\n",
            "\n",
            "Epoch 1: val_loss improved from inf to 0.05218, saving model to model.best.hdf5\n",
            "\n",
            "Epoch 2: val_loss improved from 0.05218 to 0.04201, saving model to model.best.hdf5\n",
            "\n",
            "Epoch 3: val_loss improved from 0.04201 to 0.03728, saving model to model.best.hdf5\n",
            "\n",
            "Epoch 4: val_loss improved from 0.03728 to 0.03418, saving model to model.best.hdf5\n",
            "\n",
            "Epoch 5: val_loss improved from 0.03418 to 0.03173, saving model to model.best.hdf5\n",
            "\n",
            "Epoch 1: val_loss improved from inf to 0.07542, saving model to model.best.hdf5\n",
            "\n",
            "Epoch 2: val_loss improved from 0.07542 to 0.04798, saving model to model.best.hdf5\n",
            "\n",
            "Epoch 3: val_loss improved from 0.04798 to 0.03961, saving model to model.best.hdf5\n",
            "\n",
            "Epoch 4: val_loss improved from 0.03961 to 0.03570, saving model to model.best.hdf5\n",
            "\n",
            "Epoch 5: val_loss improved from 0.03570 to 0.03303, saving model to model.best.hdf5\n",
            "\n",
            "Epoch 1: val_loss improved from inf to 0.12857, saving model to model.best.hdf5\n",
            "\n",
            "Epoch 2: val_loss improved from 0.12857 to 0.06262, saving model to model.best.hdf5\n",
            "\n",
            "Epoch 3: val_loss improved from 0.06262 to 0.04799, saving model to model.best.hdf5\n",
            "\n",
            "Epoch 4: val_loss improved from 0.04799 to 0.04049, saving model to model.best.hdf5\n",
            "\n",
            "Epoch 5: val_loss improved from 0.04049 to 0.03506, saving model to model.best.hdf5\n",
            "\n",
            "Epoch 1: val_loss improved from inf to 0.06621, saving model to model.best.hdf5\n",
            "\n",
            "Epoch 2: val_loss improved from 0.06621 to 0.05369, saving model to model.best.hdf5\n",
            "\n",
            "Epoch 3: val_loss improved from 0.05369 to 0.04584, saving model to model.best.hdf5\n",
            "\n",
            "Epoch 4: val_loss improved from 0.04584 to 0.03989, saving model to model.best.hdf5\n",
            "\n",
            "Epoch 5: val_loss improved from 0.03989 to 0.03524, saving model to model.best.hdf5\n",
            "\n",
            "Epoch 1: val_loss improved from inf to 0.15064, saving model to model.best.hdf5\n",
            "\n",
            "Epoch 2: val_loss improved from 0.15064 to 0.04807, saving model to model.best.hdf5\n",
            "\n",
            "Epoch 3: val_loss improved from 0.04807 to 0.03277, saving model to model.best.hdf5\n",
            "\n",
            "Epoch 4: val_loss improved from 0.03277 to 0.02870, saving model to model.best.hdf5\n",
            "\n",
            "Epoch 5: val_loss improved from 0.02870 to 0.02638, saving model to model.best.hdf5\n",
            "\n",
            "Epoch 1: val_loss improved from inf to 0.09289, saving model to model.best.hdf5\n",
            "\n",
            "Epoch 2: val_loss improved from 0.09289 to 0.05501, saving model to model.best.hdf5\n",
            "\n",
            "Epoch 3: val_loss improved from 0.05501 to 0.04395, saving model to model.best.hdf5\n",
            "\n",
            "Epoch 4: val_loss improved from 0.04395 to 0.03763, saving model to model.best.hdf5\n",
            "\n",
            "Epoch 5: val_loss improved from 0.03763 to 0.03319, saving model to model.best.hdf5\n",
            "\n",
            "Epoch 1: val_loss improved from inf to 0.10161, saving model to model.best.hdf5\n",
            "\n",
            "Epoch 2: val_loss improved from 0.10161 to 0.06934, saving model to model.best.hdf5\n",
            "\n",
            "Epoch 3: val_loss improved from 0.06934 to 0.05663, saving model to model.best.hdf5\n",
            "\n",
            "Epoch 4: val_loss improved from 0.05663 to 0.04832, saving model to model.best.hdf5\n",
            "\n",
            "Epoch 5: val_loss improved from 0.04832 to 0.04221, saving model to model.best.hdf5\n",
            "\n",
            "Epoch 1: val_loss improved from inf to 0.06543, saving model to model.best.hdf5\n",
            "\n",
            "Epoch 2: val_loss improved from 0.06543 to 0.03582, saving model to model.best.hdf5\n",
            "\n",
            "Epoch 3: val_loss improved from 0.03582 to 0.02968, saving model to model.best.hdf5\n",
            "\n",
            "Epoch 4: val_loss improved from 0.02968 to 0.02672, saving model to model.best.hdf5\n",
            "\n",
            "Epoch 5: val_loss improved from 0.02672 to 0.02456, saving model to model.best.hdf5\n",
            "\n",
            "Epoch 1: val_loss improved from inf to 0.07789, saving model to model.best.hdf5\n",
            "\n",
            "Epoch 2: val_loss improved from 0.07789 to 0.06027, saving model to model.best.hdf5\n",
            "\n",
            "Epoch 3: val_loss improved from 0.06027 to 0.04960, saving model to model.best.hdf5\n",
            "\n",
            "Epoch 4: val_loss improved from 0.04960 to 0.04207, saving model to model.best.hdf5\n",
            "\n",
            "Epoch 5: val_loss improved from 0.04207 to 0.03658, saving model to model.best.hdf5\n",
            "5\n",
            "\n",
            "Epoch 1: val_loss improved from inf to 0.12108, saving model to model.best.hdf5\n",
            "\n",
            "Epoch 2: val_loss improved from 0.12108 to 0.07075, saving model to model.best.hdf5\n",
            "\n",
            "Epoch 3: val_loss improved from 0.07075 to 0.04654, saving model to model.best.hdf5\n",
            "\n",
            "Epoch 4: val_loss improved from 0.04654 to 0.03519, saving model to model.best.hdf5\n",
            "\n",
            "Epoch 5: val_loss improved from 0.03519 to 0.02983, saving model to model.best.hdf5\n",
            "\n",
            "Epoch 1: val_loss improved from inf to 0.14475, saving model to model.best.hdf5\n",
            "\n",
            "Epoch 2: val_loss improved from 0.14475 to 0.08918, saving model to model.best.hdf5\n",
            "\n",
            "Epoch 3: val_loss improved from 0.08918 to 0.05868, saving model to model.best.hdf5\n",
            "\n",
            "Epoch 4: val_loss improved from 0.05868 to 0.04236, saving model to model.best.hdf5\n",
            "\n",
            "Epoch 5: val_loss improved from 0.04236 to 0.03376, saving model to model.best.hdf5\n",
            "\n",
            "Epoch 1: val_loss improved from inf to 0.23787, saving model to model.best.hdf5\n",
            "\n",
            "Epoch 2: val_loss improved from 0.23787 to 0.14246, saving model to model.best.hdf5\n",
            "\n",
            "Epoch 3: val_loss improved from 0.14246 to 0.09004, saving model to model.best.hdf5\n",
            "\n",
            "Epoch 4: val_loss improved from 0.09004 to 0.06068, saving model to model.best.hdf5\n",
            "\n",
            "Epoch 5: val_loss improved from 0.06068 to 0.04418, saving model to model.best.hdf5\n",
            "\n",
            "Epoch 1: val_loss improved from inf to 0.20919, saving model to model.best.hdf5\n",
            "\n",
            "Epoch 2: val_loss improved from 0.20919 to 0.12708, saving model to model.best.hdf5\n",
            "\n",
            "Epoch 3: val_loss improved from 0.12708 to 0.07865, saving model to model.best.hdf5\n",
            "\n",
            "Epoch 4: val_loss improved from 0.07865 to 0.05117, saving model to model.best.hdf5\n",
            "\n",
            "Epoch 5: val_loss improved from 0.05117 to 0.03614, saving model to model.best.hdf5\n",
            "\n",
            "Epoch 1: val_loss improved from inf to 0.23984, saving model to model.best.hdf5\n",
            "\n",
            "Epoch 2: val_loss improved from 0.23984 to 0.14108, saving model to model.best.hdf5\n",
            "\n",
            "Epoch 3: val_loss improved from 0.14108 to 0.08747, saving model to model.best.hdf5\n",
            "\n",
            "Epoch 4: val_loss improved from 0.08747 to 0.05756, saving model to model.best.hdf5\n",
            "\n",
            "Epoch 5: val_loss improved from 0.05756 to 0.04074, saving model to model.best.hdf5\n",
            "\n",
            "Epoch 1: val_loss improved from inf to 0.14744, saving model to model.best.hdf5\n",
            "\n",
            "Epoch 2: val_loss improved from 0.14744 to 0.07612, saving model to model.best.hdf5\n",
            "\n",
            "Epoch 3: val_loss improved from 0.07612 to 0.04708, saving model to model.best.hdf5\n",
            "\n",
            "Epoch 4: val_loss improved from 0.04708 to 0.03493, saving model to model.best.hdf5\n",
            "\n",
            "Epoch 5: val_loss improved from 0.03493 to 0.02952, saving model to model.best.hdf5\n",
            "\n",
            "Epoch 1: val_loss improved from inf to 0.13901, saving model to model.best.hdf5\n",
            "\n",
            "Epoch 2: val_loss improved from 0.13901 to 0.08631, saving model to model.best.hdf5\n",
            "\n",
            "Epoch 3: val_loss improved from 0.08631 to 0.05897, saving model to model.best.hdf5\n",
            "\n",
            "Epoch 4: val_loss improved from 0.05897 to 0.04501, saving model to model.best.hdf5\n",
            "\n",
            "Epoch 5: val_loss improved from 0.04501 to 0.03776, saving model to model.best.hdf5\n",
            "\n",
            "Epoch 1: val_loss improved from inf to 0.20381, saving model to model.best.hdf5\n",
            "\n",
            "Epoch 2: val_loss improved from 0.20381 to 0.10863, saving model to model.best.hdf5\n",
            "\n",
            "Epoch 3: val_loss improved from 0.10863 to 0.06178, saving model to model.best.hdf5\n",
            "\n",
            "Epoch 4: val_loss improved from 0.06178 to 0.03898, saving model to model.best.hdf5\n",
            "\n",
            "Epoch 5: val_loss improved from 0.03898 to 0.02803, saving model to model.best.hdf5\n",
            "\n",
            "Epoch 1: val_loss improved from inf to 0.12369, saving model to model.best.hdf5\n",
            "\n",
            "Epoch 2: val_loss improved from 0.12369 to 0.06605, saving model to model.best.hdf5\n",
            "\n",
            "Epoch 3: val_loss improved from 0.06605 to 0.03948, saving model to model.best.hdf5\n",
            "\n",
            "Epoch 4: val_loss improved from 0.03948 to 0.02757, saving model to model.best.hdf5\n",
            "\n",
            "Epoch 5: val_loss improved from 0.02757 to 0.02226, saving model to model.best.hdf5\n",
            "\n",
            "Epoch 1: val_loss improved from inf to 0.13875, saving model to model.best.hdf5\n",
            "\n",
            "Epoch 2: val_loss improved from 0.13875 to 0.08247, saving model to model.best.hdf5\n",
            "\n",
            "Epoch 3: val_loss improved from 0.08247 to 0.05511, saving model to model.best.hdf5\n",
            "\n",
            "Epoch 4: val_loss improved from 0.05511 to 0.04163, saving model to model.best.hdf5\n",
            "\n",
            "Epoch 5: val_loss improved from 0.04163 to 0.03458, saving model to model.best.hdf5\n",
            "\n",
            "Epoch 1: val_loss improved from inf to 0.11157, saving model to model.best.hdf5\n",
            "\n",
            "Epoch 2: val_loss improved from 0.11157 to 0.06238, saving model to model.best.hdf5\n",
            "\n",
            "Epoch 3: val_loss improved from 0.06238 to 0.04631, saving model to model.best.hdf5\n",
            "\n",
            "Epoch 4: val_loss improved from 0.04631 to 0.03926, saving model to model.best.hdf5\n",
            "\n",
            "Epoch 5: val_loss improved from 0.03926 to 0.03490, saving model to model.best.hdf5\n",
            "\n",
            "Epoch 1: val_loss improved from inf to 0.05410, saving model to model.best.hdf5\n",
            "\n",
            "Epoch 2: val_loss improved from 0.05410 to 0.03882, saving model to model.best.hdf5\n",
            "\n",
            "Epoch 3: val_loss improved from 0.03882 to 0.03395, saving model to model.best.hdf5\n",
            "\n",
            "Epoch 4: val_loss improved from 0.03395 to 0.03097, saving model to model.best.hdf5\n",
            "\n",
            "Epoch 5: val_loss improved from 0.03097 to 0.02868, saving model to model.best.hdf5\n",
            "\n",
            "Epoch 1: val_loss improved from inf to 0.07802, saving model to model.best.hdf5\n",
            "\n",
            "Epoch 2: val_loss improved from 0.07802 to 0.03370, saving model to model.best.hdf5\n",
            "\n",
            "Epoch 3: val_loss improved from 0.03370 to 0.02644, saving model to model.best.hdf5\n",
            "\n",
            "Epoch 4: val_loss improved from 0.02644 to 0.02386, saving model to model.best.hdf5\n",
            "\n",
            "Epoch 5: val_loss improved from 0.02386 to 0.02214, saving model to model.best.hdf5\n",
            "\n",
            "Epoch 1: val_loss improved from inf to 0.06863, saving model to model.best.hdf5\n",
            "\n",
            "Epoch 2: val_loss improved from 0.06863 to 0.04541, saving model to model.best.hdf5\n",
            "\n",
            "Epoch 3: val_loss improved from 0.04541 to 0.03759, saving model to model.best.hdf5\n",
            "\n",
            "Epoch 4: val_loss improved from 0.03759 to 0.03297, saving model to model.best.hdf5\n",
            "\n",
            "Epoch 5: val_loss improved from 0.03297 to 0.02963, saving model to model.best.hdf5\n",
            "\n",
            "Epoch 1: val_loss improved from inf to 0.05888, saving model to model.best.hdf5\n",
            "\n",
            "Epoch 2: val_loss improved from 0.05888 to 0.04766, saving model to model.best.hdf5\n",
            "\n",
            "Epoch 3: val_loss improved from 0.04766 to 0.04094, saving model to model.best.hdf5\n",
            "\n",
            "Epoch 4: val_loss improved from 0.04094 to 0.03589, saving model to model.best.hdf5\n",
            "\n",
            "Epoch 5: val_loss improved from 0.03589 to 0.03195, saving model to model.best.hdf5\n",
            "\n",
            "Epoch 1: val_loss improved from inf to 0.12582, saving model to model.best.hdf5\n",
            "\n",
            "Epoch 2: val_loss improved from 0.12582 to 0.05724, saving model to model.best.hdf5\n",
            "\n",
            "Epoch 3: val_loss improved from 0.05724 to 0.04089, saving model to model.best.hdf5\n",
            "\n",
            "Epoch 4: val_loss improved from 0.04089 to 0.03361, saving model to model.best.hdf5\n",
            "\n",
            "Epoch 5: val_loss improved from 0.03361 to 0.02891, saving model to model.best.hdf5\n",
            "\n",
            "Epoch 1: val_loss improved from inf to 0.09609, saving model to model.best.hdf5\n",
            "\n",
            "Epoch 2: val_loss improved from 0.09609 to 0.05386, saving model to model.best.hdf5\n",
            "\n",
            "Epoch 3: val_loss improved from 0.05386 to 0.04376, saving model to model.best.hdf5\n",
            "\n",
            "Epoch 4: val_loss improved from 0.04376 to 0.03846, saving model to model.best.hdf5\n",
            "\n",
            "Epoch 5: val_loss improved from 0.03846 to 0.03452, saving model to model.best.hdf5\n",
            "\n",
            "Epoch 1: val_loss improved from inf to 0.09948, saving model to model.best.hdf5\n",
            "\n",
            "Epoch 2: val_loss improved from 0.09948 to 0.06437, saving model to model.best.hdf5\n",
            "\n",
            "Epoch 3: val_loss improved from 0.06437 to 0.04984, saving model to model.best.hdf5\n",
            "\n",
            "Epoch 4: val_loss improved from 0.04984 to 0.04067, saving model to model.best.hdf5\n",
            "\n",
            "Epoch 5: val_loss improved from 0.04067 to 0.03437, saving model to model.best.hdf5\n",
            "\n",
            "Epoch 1: val_loss improved from inf to 0.04871, saving model to model.best.hdf5\n",
            "\n",
            "Epoch 2: val_loss improved from 0.04871 to 0.04187, saving model to model.best.hdf5\n",
            "\n",
            "Epoch 3: val_loss improved from 0.04187 to 0.03686, saving model to model.best.hdf5\n",
            "\n",
            "Epoch 4: val_loss improved from 0.03686 to 0.03309, saving model to model.best.hdf5\n",
            "\n",
            "Epoch 5: val_loss improved from 0.03309 to 0.03021, saving model to model.best.hdf5\n"
          ]
        }
      ]
    },
    {
      "cell_type": "markdown",
      "source": [
        "For each training run, a Callback method is used to find the best model for different latent dimension settings.\n",
        "\n",
        "Construct the test_MSE matrix to store the test MSE values for the best model for each training run. Rows represent training runs, while the columns represent lat_dim."
      ],
      "metadata": {
        "id": "QMCXqdvx4p5-"
      }
    },
    {
      "cell_type": "markdown",
      "source": [
        " ### Compute the mean of the test MSE values "
      ],
      "metadata": {
        "id": "wg8o9CA0Ki6l"
      }
    },
    {
      "cell_type": "code",
      "source": [
        "test_MSE"
      ],
      "metadata": {
        "colab": {
          "base_uri": "https://localhost:8080/"
        },
        "id": "615Y1xe8BMzG",
        "outputId": "07ebe6a7-7cd1-49e5-a333-788748127a89"
      },
      "execution_count": 14,
      "outputs": [
        {
          "output_type": "execute_result",
          "data": {
            "text/plain": [
              "array([[0.04374652, 0.02088043, 0.04013807, 0.02115081, 0.04997356,\n",
              "        0.01811013, 0.05143402, 0.02038458, 0.02570245, 0.02853714,\n",
              "        0.03832728, 0.03193356, 0.04546349, 0.03433238, 0.02874942,\n",
              "        0.02158041, 0.02593551, 0.02863973, 0.04742252],\n",
              "       [0.0309463 , 0.03690132, 0.03431238, 0.02753209, 0.04692673,\n",
              "        0.04264513, 0.03475321, 0.03052152, 0.03085301, 0.04473656,\n",
              "        0.03859999, 0.03883408, 0.02426688, 0.03213682, 0.0384122 ,\n",
              "        0.03198325, 0.02615456, 0.03711769, 0.03321813],\n",
              "       [0.03872586, 0.04271258, 0.04085999, 0.02691856, 0.024396  ,\n",
              "        0.03508511, 0.03562142, 0.02475818, 0.02161309, 0.02563676,\n",
              "        0.03282446, 0.04241382, 0.03027409, 0.03089417, 0.03944937,\n",
              "        0.03980155, 0.04065123, 0.02768098, 0.03276088],\n",
              "       [0.0413149 , 0.03974033, 0.03523439, 0.03064032, 0.03821893,\n",
              "        0.04339607, 0.02975044, 0.02633659, 0.03441869, 0.03559109,\n",
              "        0.03119136, 0.03369077, 0.03605317, 0.03438177, 0.02678714,\n",
              "        0.03356041, 0.04240207, 0.02459417, 0.03588194],\n",
              "       [0.03041601, 0.03485   , 0.04464721, 0.03572544, 0.04115158,\n",
              "        0.03108631, 0.03812603, 0.0285641 , 0.02270758, 0.03476305,\n",
              "        0.03452225, 0.02841341, 0.02229685, 0.029651  , 0.03192928,\n",
              "        0.02880955, 0.03444353, 0.03414931, 0.02974598]])"
            ]
          },
          "metadata": {},
          "execution_count": 14
        }
      ]
    },
    {
      "cell_type": "code",
      "source": [
        "mean_test_MSE = test_MSE.mean(0)\n",
        "lat_dim1 = [1,2,3,4,5,6,7,8,9,10,20,30,40,50,60,70,80,90,100]"
      ],
      "metadata": {
        "id": "kuLgxMEN-77z"
      },
      "execution_count": 15,
      "outputs": []
    },
    {
      "cell_type": "code",
      "source": [
        "mean_test_MSE"
      ],
      "metadata": {
        "colab": {
          "base_uri": "https://localhost:8080/"
        },
        "id": "LeE-LvhmD2Nt",
        "outputId": "3d78c2aa-2ed9-4a90-8f5c-550307e16cc8"
      },
      "execution_count": 17,
      "outputs": [
        {
          "output_type": "execute_result",
          "data": {
            "text/plain": [
              "array([0.03702992, 0.03501693, 0.03903841, 0.02839344, 0.04013336,\n",
              "       0.03406455, 0.03793703, 0.02611299, 0.02705896, 0.03385292,\n",
              "       0.03509307, 0.03505713, 0.0316709 , 0.03227923, 0.03306548,\n",
              "       0.03114704, 0.03391738, 0.03043638, 0.03580589])"
            ]
          },
          "metadata": {},
          "execution_count": 17
        }
      ]
    },
    {
      "cell_type": "code",
      "source": [
        "min(mean_test_MSE)"
      ],
      "metadata": {
        "colab": {
          "base_uri": "https://localhost:8080/"
        },
        "id": "JMQPTtEnEAyo",
        "outputId": "85525466-0d62-4e68-a22a-41c1565ae024"
      },
      "execution_count": 20,
      "outputs": [
        {
          "output_type": "execute_result",
          "data": {
            "text/plain": [
              "0.0261129941791296"
            ]
          },
          "metadata": {},
          "execution_count": 20
        }
      ]
    },
    {
      "cell_type": "markdown",
      "source": [
        "### Plot fot the mean test MSE versus lat_dim"
      ],
      "metadata": {
        "id": "9Eyld3LXKOFV"
      }
    },
    {
      "cell_type": "code",
      "source": [
        "plt.plot(lat_dim1, mean_test_MSE,color='darkviolet')\n",
        "plt.grid(True)\n",
        "plt.xlabel('Latent Space')\n",
        "plt.ylabel('Mean Test MSE')\n",
        "plt.show()"
      ],
      "metadata": {
        "colab": {
          "base_uri": "https://localhost:8080/",
          "height": 300
        },
        "id": "L7x0UsXt_2NG",
        "outputId": "39fb5e30-ca61-447d-81d6-ee0e422c64ad"
      },
      "execution_count": 16,
      "outputs": [
        {
          "output_type": "display_data",
          "data": {
            "image/png": "[encoded data removed]",
            "text/plain": [
              "<Figure size 432x288 with 1 Axes>"
            ]
          },
          "metadata": {
            "needs_background": "light"
          }
        }
      ]
    },
    {
      "cell_type": "markdown",
      "source": [
        "The plot shows that the mean test MSE is lowest when the latent space is 8. The curve fluctuates a lot when choosing a small latent space. Models with more latent space would be stable.\n",
        "\n",
        "It suggest that the model would perform better in shorter epochs(5) when lat_dim = 8. Howerer, this may not be the case when running more epochs. "
      ],
      "metadata": {
        "id": "YdAK3yTADr-7"
      }
    },
    {
      "cell_type": "markdown",
      "source": [
        "# P2 - permutation-equivariant functions"
      ],
      "metadata": {
        "id": "SX7VnBCEzVEe"
      }
    },
    {
      "cell_type": "markdown",
      "source": [
        "## P2.1"
      ],
      "metadata": {
        "id": "EetE4Bb7zVNh"
      }
    },
    {
      "cell_type": "markdown",
      "source": [
        "### Load the dataset"
      ],
      "metadata": {
        "id": "IUQLNuMalFx4"
      }
    },
    {
      "cell_type": "markdown",
      "source": [
        "The first row and column of the original data should be dropped."
      ],
      "metadata": {
        "id": "Yyi0W8-sneEo"
      }
    },
    {
      "cell_type": "code",
      "source": [
        "xtrain_2 = read_csv('/content/drive/MyDrive/ST456-data/xtrain-2.csv')\n",
        "ytrain_2 = read_csv('/content/drive/MyDrive/ST456-data/ytrain-2.csv')\n",
        "xtest_2 = read_csv('/content/drive/MyDrive/ST456-data/xtest-2.csv')\n",
        "ytest_2 = read_csv('/content/drive/MyDrive/ST456-data/ytest-2.csv')"
      ],
      "metadata": {
        "id": "HNZp2jgDlGti"
      },
      "execution_count": 91,
      "outputs": []
    },
    {
      "cell_type": "code",
      "source": [
        "# Drop the first column of data\n",
        "xtrain_2, ytrain_2 = xtrain_2.values[:, 1:], ytrain_2.values[:, 1:]\n",
        "xtest_2, ytest_2 = xtest_2.values[:, 1:], ytest_2.values[:, 1:]"
      ],
      "metadata": {
        "id": "dKqphmXvqaNL"
      },
      "execution_count": 92,
      "outputs": []
    },
    {
      "cell_type": "markdown",
      "source": [
        "Reshape the data to (5, 1, 3) to split the input into 3 channels."
      ],
      "metadata": {
        "id": "NBb5aLG-ns8m"
      }
    },
    {
      "cell_type": "code",
      "source": [
        "# Reshape the data to (200000, 5, 1, 3)\n",
        "xtrain_2 = tf.reshape(xtrain_2, [200000, 5, 1, 3])\n",
        "print(\"xtrain_2 original shape: \", xtrain_2.shape)\n",
        "xtest_2 = tf.reshape(xtest_2, [200000, 5, 1, 3])\n",
        "print(\"xtest_2 original shape: \", xtest_2.shape)"
      ],
      "metadata": {
        "colab": {
          "base_uri": "https://localhost:8080/"
        },
        "id": "d2M7YlpEW6MG",
        "outputId": "e7b5446f-383a-4850-8372-64abb3ed1d34"
      },
      "execution_count": 93,
      "outputs": [
        {
          "output_type": "stream",
          "name": "stdout",
          "text": [
            "xtrain_2 original shape:  (200000, 5, 1, 3)\n",
            "xtest_2 original shape:  (200000, 5, 1, 3)\n"
          ]
        }
      ]
    },
    {
      "cell_type": "markdown",
      "source": [
        "## P2.2"
      ],
      "metadata": {
        "id": "YKUsViS_ey7M"
      }
    },
    {
      "cell_type": "markdown",
      "source": [
        "### Implement and Train the NN with (L, w) = (2, 5)"
      ],
      "metadata": {
        "id": "b6hZ0SIiOJfv"
      }
    },
    {
      "cell_type": "code",
      "source": [
        "from keras.models import Sequential\n",
        "from keras.layers.convolutional import Conv2D\n",
        "from keras.layers import Dense\n",
        "from keras.layers.convolutional import MaxPooling2D"
      ],
      "metadata": {
        "id": "VBUboFuyRnve"
      },
      "execution_count": 94,
      "outputs": []
    },
    {
      "cell_type": "code",
      "source": [
        "m = 5\n",
        "w = 5\n",
        "model2 = Sequential()\n",
        "# 1 x 1 convolution kernel with 3 input channels and w output channels\n",
        "model2.add(Conv2D(w, (1, 1), input_shape=(5, 1, 3), activation='relu', padding='same', kernel_initializer='he_uniform'))\n",
        "# 1 x 1 convolution kernel 1 output channels\n",
        "model2.add(Conv2D(1, (1, 1), padding='same', kernel_initializer='he_uniform'))\n",
        "model2.add(Dense(m))\n",
        "\n",
        "model2.compile(optimizer=tf.optimizers.Adam(learning_rate = 0.0001 , epsilon = 0.001), \n",
        "               loss='mean_squared_error')"
      ],
      "metadata": {
        "id": "fENr64_NQMGs"
      },
      "execution_count": 95,
      "outputs": []
    },
    {
      "cell_type": "code",
      "source": [
        "history_1 = model2.fit(xtrain_2, ytrain_2, validation_split = 0.1, \n",
        "                       epochs=50, batch_size=300, verbose=2)"
      ],
      "metadata": {
        "colab": {
          "base_uri": "https://localhost:8080/"
        },
        "id": "bvaq-SRfSVgu",
        "outputId": "1c385b48-3530-48de-d005-d783b33de5b2"
      },
      "execution_count": 96,
      "outputs": [
        {
          "output_type": "stream",
          "name": "stdout",
          "text": [
            "Epoch 1/50\n",
            "600/600 - 4s - loss: 0.3136 - val_loss: 0.2697 - 4s/epoch - 6ms/step\n",
            "Epoch 2/50\n",
            "600/600 - 3s - loss: 0.2414 - val_loss: 0.2186 - 3s/epoch - 5ms/step\n",
            "Epoch 3/50\n",
            "600/600 - 3s - loss: 0.2035 - val_loss: 0.1914 - 3s/epoch - 5ms/step\n",
            "Epoch 4/50\n",
            "600/600 - 3s - loss: 0.1835 - val_loss: 0.1773 - 3s/epoch - 5ms/step\n",
            "Epoch 5/50\n",
            "600/600 - 3s - loss: 0.1733 - val_loss: 0.1702 - 3s/epoch - 5ms/step\n",
            "Epoch 6/50\n",
            "600/600 - 3s - loss: 0.1683 - val_loss: 0.1667 - 3s/epoch - 5ms/step\n",
            "Epoch 7/50\n",
            "600/600 - 3s - loss: 0.1656 - val_loss: 0.1647 - 3s/epoch - 5ms/step\n",
            "Epoch 8/50\n",
            "600/600 - 3s - loss: 0.1640 - val_loss: 0.1633 - 3s/epoch - 5ms/step\n",
            "Epoch 9/50\n",
            "600/600 - 4s - loss: 0.1628 - val_loss: 0.1623 - 4s/epoch - 6ms/step\n",
            "Epoch 10/50\n",
            "600/600 - 5s - loss: 0.1619 - val_loss: 0.1616 - 5s/epoch - 9ms/step\n",
            "Epoch 11/50\n",
            "600/600 - 5s - loss: 0.1613 - val_loss: 0.1611 - 5s/epoch - 8ms/step\n",
            "Epoch 12/50\n",
            "600/600 - 5s - loss: 0.1609 - val_loss: 0.1607 - 5s/epoch - 8ms/step\n",
            "Epoch 13/50\n",
            "600/600 - 4s - loss: 0.1606 - val_loss: 0.1605 - 4s/epoch - 7ms/step\n",
            "Epoch 14/50\n",
            "600/600 - 4s - loss: 0.1604 - val_loss: 0.1603 - 4s/epoch - 6ms/step\n",
            "Epoch 15/50\n",
            "600/600 - 3s - loss: 0.1603 - val_loss: 0.1602 - 3s/epoch - 5ms/step\n",
            "Epoch 16/50\n",
            "600/600 - 3s - loss: 0.1602 - val_loss: 0.1602 - 3s/epoch - 5ms/step\n",
            "Epoch 17/50\n",
            "600/600 - 3s - loss: 0.1601 - val_loss: 0.1601 - 3s/epoch - 5ms/step\n",
            "Epoch 18/50\n",
            "600/600 - 3s - loss: 0.1601 - val_loss: 0.1601 - 3s/epoch - 5ms/step\n",
            "Epoch 19/50\n",
            "600/600 - 3s - loss: 0.1601 - val_loss: 0.1601 - 3s/epoch - 5ms/step\n",
            "Epoch 20/50\n",
            "600/600 - 3s - loss: 0.1601 - val_loss: 0.1601 - 3s/epoch - 5ms/step\n",
            "Epoch 21/50\n",
            "600/600 - 3s - loss: 0.1601 - val_loss: 0.1600 - 3s/epoch - 5ms/step\n",
            "Epoch 22/50\n",
            "600/600 - 3s - loss: 0.1600 - val_loss: 0.1600 - 3s/epoch - 6ms/step\n",
            "Epoch 23/50\n",
            "600/600 - 3s - loss: 0.1600 - val_loss: 0.1600 - 3s/epoch - 5ms/step\n",
            "Epoch 24/50\n",
            "600/600 - 3s - loss: 0.1600 - val_loss: 0.1600 - 3s/epoch - 5ms/step\n",
            "Epoch 25/50\n",
            "600/600 - 3s - loss: 0.1600 - val_loss: 0.1600 - 3s/epoch - 5ms/step\n",
            "Epoch 26/50\n",
            "600/600 - 3s - loss: 0.1600 - val_loss: 0.1600 - 3s/epoch - 5ms/step\n",
            "Epoch 27/50\n",
            "600/600 - 3s - loss: 0.1600 - val_loss: 0.1600 - 3s/epoch - 5ms/step\n",
            "Epoch 28/50\n",
            "600/600 - 3s - loss: 0.1600 - val_loss: 0.1600 - 3s/epoch - 5ms/step\n",
            "Epoch 29/50\n",
            "600/600 - 3s - loss: 0.1600 - val_loss: 0.1600 - 3s/epoch - 5ms/step\n",
            "Epoch 30/50\n",
            "600/600 - 3s - loss: 0.1600 - val_loss: 0.1600 - 3s/epoch - 5ms/step\n",
            "Epoch 31/50\n",
            "600/600 - 3s - loss: 0.1600 - val_loss: 0.1600 - 3s/epoch - 5ms/step\n",
            "Epoch 32/50\n",
            "600/600 - 3s - loss: 0.1600 - val_loss: 0.1600 - 3s/epoch - 5ms/step\n",
            "Epoch 33/50\n",
            "600/600 - 3s - loss: 0.1600 - val_loss: 0.1600 - 3s/epoch - 5ms/step\n",
            "Epoch 34/50\n",
            "600/600 - 3s - loss: 0.1600 - val_loss: 0.1600 - 3s/epoch - 5ms/step\n",
            "Epoch 35/50\n",
            "600/600 - 3s - loss: 0.1600 - val_loss: 0.1600 - 3s/epoch - 5ms/step\n",
            "Epoch 36/50\n",
            "600/600 - 3s - loss: 0.1600 - val_loss: 0.1600 - 3s/epoch - 5ms/step\n",
            "Epoch 37/50\n",
            "600/600 - 3s - loss: 0.1600 - val_loss: 0.1600 - 3s/epoch - 5ms/step\n",
            "Epoch 38/50\n",
            "600/600 - 3s - loss: 0.1600 - val_loss: 0.1600 - 3s/epoch - 5ms/step\n",
            "Epoch 39/50\n",
            "600/600 - 3s - loss: 0.1600 - val_loss: 0.1600 - 3s/epoch - 5ms/step\n",
            "Epoch 40/50\n",
            "600/600 - 4s - loss: 0.1600 - val_loss: 0.1600 - 4s/epoch - 6ms/step\n",
            "Epoch 41/50\n",
            "600/600 - 3s - loss: 0.1600 - val_loss: 0.1600 - 3s/epoch - 5ms/step\n",
            "Epoch 42/50\n",
            "600/600 - 3s - loss: 0.1600 - val_loss: 0.1600 - 3s/epoch - 5ms/step\n",
            "Epoch 43/50\n",
            "600/600 - 3s - loss: 0.1600 - val_loss: 0.1600 - 3s/epoch - 5ms/step\n",
            "Epoch 44/50\n",
            "600/600 - 3s - loss: 0.1600 - val_loss: 0.1600 - 3s/epoch - 5ms/step\n",
            "Epoch 45/50\n",
            "600/600 - 3s - loss: 0.1600 - val_loss: 0.1600 - 3s/epoch - 5ms/step\n",
            "Epoch 46/50\n",
            "600/600 - 3s - loss: 0.1600 - val_loss: 0.1600 - 3s/epoch - 5ms/step\n",
            "Epoch 47/50\n",
            "600/600 - 3s - loss: 0.1600 - val_loss: 0.1600 - 3s/epoch - 5ms/step\n",
            "Epoch 48/50\n",
            "600/600 - 3s - loss: 0.1600 - val_loss: 0.1600 - 3s/epoch - 5ms/step\n",
            "Epoch 49/50\n",
            "600/600 - 3s - loss: 0.1600 - val_loss: 0.1600 - 3s/epoch - 5ms/step\n",
            "Epoch 50/50\n",
            "600/600 - 3s - loss: 0.1600 - val_loss: 0.1600 - 3s/epoch - 5ms/step\n"
          ]
        }
      ]
    },
    {
      "cell_type": "markdown",
      "source": [
        "Plot for the validation loss versus the number of epochs"
      ],
      "metadata": {
        "id": "18gpcI4zfkp3"
      }
    },
    {
      "cell_type": "code",
      "source": [
        "plt.plot(history_1.history['loss'], label='training loss')\n",
        "plt.plot(history_1.history['val_loss'], label='validation loss')\n",
        "plt.xlabel('Epoch')\n",
        "plt.ylabel('Error')\n",
        "plt.legend()\n",
        "plt.grid(True)\n",
        "plt.show()"
      ],
      "metadata": {
        "colab": {
          "base_uri": "https://localhost:8080/",
          "height": 300
        },
        "id": "ZD1OirN8cmjb",
        "outputId": "9f9cdaaf-f39a-4ae9-b566-dff4aa334669"
      },
      "execution_count": 13,
      "outputs": [
        {
          "output_type": "display_data",
          "data": {
            "image/png": "[encoded data removed]",
            "text/plain": [
              "<Figure size 432x288 with 1 Axes>"
            ]
          },
          "metadata": {
            "needs_background": "light"
          }
        }
      ]
    },
    {
      "cell_type": "markdown",
      "source": [
        "Compute the test MSE value and add it into the test_MSE2 array:"
      ],
      "metadata": {
        "id": "gBftvhb4j435"
      }
    },
    {
      "cell_type": "code",
      "source": [
        "test_MSE2 = []\n",
        "test_MSE2.append(model2.evaluate(xtest_2,ytest_2,verbose=0))\n",
        "print(model2.evaluate(xtest_2,ytest_2,verbose=0))"
      ],
      "metadata": {
        "colab": {
          "base_uri": "https://localhost:8080/"
        },
        "id": "3yX7MAZ1aJFs",
        "outputId": "3a574329-260a-4a23-ebab-725fce747946"
      },
      "execution_count": 103,
      "outputs": [
        {
          "output_type": "stream",
          "name": "stdout",
          "text": [
            "0.16350644826889038\n"
          ]
        }
      ]
    },
    {
      "cell_type": "markdown",
      "source": [
        "The performace of this neural network architecture is not good, since the loss stagnanted at 0.16 after 22 epochs."
      ],
      "metadata": {
        "id": "DpCTsF6zkqg8"
      }
    },
    {
      "cell_type": "markdown",
      "source": [
        "### (L, w) = (2, 10), (2, 100) or (2, 200)"
      ],
      "metadata": {
        "id": "ZTfB4o69f2ay"
      }
    },
    {
      "cell_type": "markdown",
      "source": [
        "Repeating the process for differnet L and w:"
      ],
      "metadata": {
        "id": "oTCSE_R8lnnn"
      }
    },
    {
      "cell_type": "code",
      "source": [
        "# L = 2\n",
        "for w in [10, 100, 200]:\n",
        "    print(w)\n",
        "    model2 = Sequential()\n",
        "    model2.add(Conv2D(w, (1, 1), input_shape=(5, 1, 3), activation='relu', padding='same', kernel_initializer='he_uniform'))\n",
        "    model2.add(Conv2D(1, (1, 1), padding='same', kernel_initializer='he_uniform'))\n",
        "    model2.add(Dense(m, activation='relu'))\n",
        "\n",
        "    model2.compile(optimizer=tf.optimizers.Adam(learning_rate = 0.0001 , epsilon = 0.001), \n",
        "               loss='mean_squared_error')\n",
        "    \n",
        "    history_2 = model2.fit(xtrain_2, ytrain_2, validation_split = 0.1, \n",
        "                       epochs=100, batch_size=300, verbose=0)\n",
        "    test_MSE2.append(model2.evaluate(xtest_2,ytest_2,verbose=0))"
      ],
      "metadata": {
        "colab": {
          "base_uri": "https://localhost:8080/"
        },
        "id": "3bi9EI_IZExf",
        "outputId": "32888b9d-da62-4d0d-8262-493a29938d03"
      },
      "execution_count": 104,
      "outputs": [
        {
          "metadata": {
            "tags": null
          },
          "name": "stdout",
          "output_type": "stream",
          "text": [
            "10\n",
            "100\n",
            "200\n"
          ]
        }
      ]
    },
    {
      "cell_type": "markdown",
      "source": [
        "### (L, w) = (3, 5), (3, 10), (3, 100) or (3, 200) "
      ],
      "metadata": {
        "id": "CM-jg4r_L3_l"
      }
    },
    {
      "cell_type": "code",
      "source": [
        "# L = 3\n",
        "for w in [5, 10, 100]:\n",
        "    print(w)\n",
        "    model2 = Sequential()\n",
        "    model2.add(Conv2D(w, (1, 1), input_shape=(5, 1, 3), activation='relu', padding='same', kernel_initializer='he_uniform'))\n",
        "    # Extra equivariant layers\n",
        "    model2.add(Conv2D(w, (1, 1), input_shape=(5, 1, 3), activation='relu', padding='same', kernel_initializer='he_uniform'))\n",
        "    model2.add(Conv2D(1, (1, 1), padding='same', kernel_initializer='he_uniform'))\n",
        "    model2.add(Dense(m, activation='relu'))\n",
        "\n",
        "    model2.compile(optimizer=tf.optimizers.Adam(learning_rate = 0.0001 , epsilon = 0.001), \n",
        "               loss='mean_squared_error')\n",
        "    \n",
        "    history_2 = model2.fit(xtrain_2, ytrain_2, validation_split = 0.1, \n",
        "                       epochs=100, batch_size=300, verbose=0)\n",
        "    test_MSE2.append(model2.evaluate(xtest_2,ytest_2,verbose=0))"
      ],
      "metadata": {
        "colab": {
          "base_uri": "https://localhost:8080/"
        },
        "id": "uW0HSy9YaW22",
        "outputId": "4db00e34-8a62-4a18-fbb3-b135725489b0"
      },
      "execution_count": 105,
      "outputs": [
        {
          "output_type": "stream",
          "name": "stdout",
          "text": [
            "5\n",
            "10\n",
            "100\n"
          ]
        }
      ]
    },
    {
      "cell_type": "markdown",
      "source": [
        "### Results"
      ],
      "metadata": {
        "id": "seei8rfeMOVp"
      }
    },
    {
      "cell_type": "code",
      "source": [
        "test_MSE2"
      ],
      "metadata": {
        "colab": {
          "base_uri": "https://localhost:8080/"
        },
        "id": "_eKb9tnEl_Zw",
        "outputId": "cf0a5261-747d-4df0-cdcc-d44e96fcb548"
      },
      "execution_count": 106,
      "outputs": [
        {
          "output_type": "execute_result",
          "data": {
            "text/plain": [
              "[0.16350644826889038,\n",
              " 0.16000008583068848,\n",
              " 0.16002458333969116,\n",
              " 0.16806244850158691,\n",
              " 0.16000373661518097,\n",
              " 0.16001498699188232,\n",
              " 0.16001860797405243]"
            ]
          },
          "metadata": {},
          "execution_count": 106
        }
      ]
    },
    {
      "cell_type": "markdown",
      "source": [
        "The test MSE values for different settings are all around 0.16. It indicate that this neural network architecture should be improved."
      ],
      "metadata": {
        "id": "KWH9G8-xmANq"
      }
    }
  ]
}